{
 "cells": [
  {
   "cell_type": "markdown",
   "metadata": {},
   "source": [
    "# HealthBit Data Analyst Case\n",
    "\n",
    "**Author**: Victor de Paula Silva\n",
    "\n",
    "**Email**: victor.depaula@live.com / victordepaula24@gmail.com"
   ]
  },
  {
   "cell_type": "markdown",
   "metadata": {},
   "source": [
    "## Preparing Environment"
   ]
  },
  {
   "cell_type": "markdown",
   "metadata": {},
   "source": [
    "### Auxiliary Libraries\n",
    "To work with data, Python provides us with some very useful tools:\n",
    "\n",
    "- Pandas: A library that works with reading, processing, and manipulating data, usually in a tabular or sequential form (lists or tables).\n",
    "- Numpy: A library for scientific computing, it helps us manipulate vectors, matrices, and perform mathematical operations on data.\n",
    "- Matplotlib: Matplotlib is a library that helps us create graphical visualizations of data.\n",
    "- Seaborn: Seaborn is an additional layer for Matplotlib, allowing us to create more complex and beautiful graphics.\n",
    "- Warnings: It is just a library for removing execution warnings (to avoid cluttering our study).\n",
    "- Sys: The sys module provides access to some variables used or maintained by the Python interpreter, and functions that interact with the interpreter, such as accessing command line arguments.\n",
    "- OS: The os module provides a portable way of using operating system dependent functionality, such as reading or writing to the file system, manipulating paths, and interacting with the system environment variables."
   ]
  },
  {
   "cell_type": "code",
   "execution_count": null,
   "metadata": {},
   "outputs": [],
   "source": [
    "# Installing libraries\n",
    "!pip install openpyxl"
   ]
  },
  {
   "cell_type": "code",
   "execution_count": 1,
   "metadata": {},
   "outputs": [],
   "source": [
    "# Importing libraries\n",
    "import pandas as pd\n",
    "import numpy as np\n",
    "import matplotlib.pyplot as plt\n",
    "import seaborn as sns\n",
    "import warnings\n",
    "import sys\n",
    "import os"
   ]
  },
  {
   "cell_type": "code",
   "execution_count": 2,
   "metadata": {},
   "outputs": [
    {
     "name": "stdout",
     "output_type": "stream",
     "text": [
      "3.10.0 (tags/v3.10.0:b494f59, Oct  4 2021, 19:00:18) [MSC v.1929 64 bit (AMD64)]\n"
     ]
    }
   ],
   "source": [
    "# Python version\n",
    "print(sys.version)"
   ]
  },
  {
   "cell_type": "markdown",
   "metadata": {},
   "source": [
    "### Settings"
   ]
  },
  {
   "cell_type": "code",
   "execution_count": 7,
   "metadata": {},
   "outputs": [],
   "source": [
    "# Ignoring warnings\n",
    "warnings.filterwarnings(\"ignore\")"
   ]
  },
  {
   "cell_type": "code",
   "execution_count": 8,
   "metadata": {},
   "outputs": [],
   "source": [
    "# Setting Matplotlib figure patterns\n",
    "plt.rcParams['figure.figsize'] = (17, 10) # Size of the figures in inches\n",
    "plt.rcParams['axes.titlepad'] = 30 # Title padding"
   ]
  },
  {
   "cell_type": "code",
   "execution_count": 9,
   "metadata": {},
   "outputs": [],
   "source": [
    "# Setting Seaborn collor pallete\n",
    "sns.set_palette(\"Accent\") # Color palette\n",
    "sns.set_style(\"whitegrid\") # Graph style\n",
    "sns.set(font_scale=1.5) # Setting the font size"
   ]
  },
  {
   "cell_type": "code",
   "execution_count": 10,
   "metadata": {},
   "outputs": [],
   "source": [
    "# Setting numerical values on Pandas\n",
    "pd.set_option('display.float_format', lambda x: '%.2f' % x) # Formatting to 1000000.00 for example"
   ]
  },
  {
   "cell_type": "markdown",
   "metadata": {},
   "source": [
    "## Data Preparation & Cleaning"
   ]
  },
  {
   "cell_type": "code",
   "execution_count": 12,
   "metadata": {},
   "outputs": [
    {
     "data": {
      "text/plain": [
       "['cadastro_base.xlsx', 'sinistros_base.xlsx']"
      ]
     },
     "execution_count": 12,
     "metadata": {},
     "output_type": "execute_result"
    }
   ],
   "source": [
    "# Setting file path\n",
    "file_path = r'C:\\Users\\Victor Paula\\Documents\\Personal\\healthbit_data_analyst_case\\Database'\n",
    "\n",
    "# Listing files on path\n",
    "files = os.listdir(file_path)\n",
    "files"
   ]
  },
  {
   "cell_type": "code",
   "execution_count": 13,
   "metadata": {},
   "outputs": [],
   "source": [
    "# Importing files and creating dataframes\n",
    "\n",
    "# Dictionary to store dataframes\n",
    "dataframes = {}\n",
    "\n",
    "# Iterate over each file\n",
    "for file in files:\n",
    "    # Extracting dataframe name for file name\n",
    "    dataframe_name = file.split('.')[0]\n",
    "    # Reading Excel file and creating dataframe\n",
    "    dataframe = pd.read_excel(os.path.join(file_path, file))\n",
    "    # Storing dataframe in dictionary\n",
    "    dataframes[dataframe_name] = dataframe\n",
    "\n",
    "# Accessing dataframes by name\n",
    "cadastro_base = dataframes['cadastro_base']\n",
    "sinistros_base = dataframes['sinistros_base']"
   ]
  },
  {
   "cell_type": "code",
   "execution_count": 15,
   "metadata": {},
   "outputs": [
    {
     "data": {
      "text/html": [
       "<div>\n",
       "<style scoped>\n",
       "    .dataframe tbody tr th:only-of-type {\n",
       "        vertical-align: middle;\n",
       "    }\n",
       "\n",
       "    .dataframe tbody tr th {\n",
       "        vertical-align: top;\n",
       "    }\n",
       "\n",
       "    .dataframe thead th {\n",
       "        text-align: right;\n",
       "    }\n",
       "</style>\n",
       "<table border=\"1\" class=\"dataframe\">\n",
       "  <thead>\n",
       "    <tr style=\"text-align: right;\">\n",
       "      <th></th>\n",
       "      <th>MÊS DE REFERÊNCIA</th>\n",
       "      <th>ANO DE REFERÊNCIA</th>\n",
       "      <th>CODIGO DA FAMILIA</th>\n",
       "      <th>CODIGO ÚNICO DA PESSOA</th>\n",
       "      <th>PLANO</th>\n",
       "      <th>TITULARIDADE</th>\n",
       "      <th>SEXO</th>\n",
       "      <th>IDADE</th>\n",
       "      <th>DATA DE NASCIMENTO</th>\n",
       "      <th>FAIXA ETÁRIA</th>\n",
       "    </tr>\n",
       "  </thead>\n",
       "  <tbody>\n",
       "    <tr>\n",
       "      <th>0</th>\n",
       "      <td>5</td>\n",
       "      <td>2020</td>\n",
       "      <td>314</td>\n",
       "      <td>844</td>\n",
       "      <td>Básico</td>\n",
       "      <td>TITULAR</td>\n",
       "      <td>M</td>\n",
       "      <td>20</td>\n",
       "      <td>16/02/2000</td>\n",
       "      <td>19-23</td>\n",
       "    </tr>\n",
       "    <tr>\n",
       "      <th>1</th>\n",
       "      <td>5</td>\n",
       "      <td>2020</td>\n",
       "      <td>46</td>\n",
       "      <td>71</td>\n",
       "      <td>Básico</td>\n",
       "      <td>TITULAR</td>\n",
       "      <td>M</td>\n",
       "      <td>44</td>\n",
       "      <td>21/04/1976</td>\n",
       "      <td>44-48</td>\n",
       "    </tr>\n",
       "    <tr>\n",
       "      <th>2</th>\n",
       "      <td>5</td>\n",
       "      <td>2020</td>\n",
       "      <td>123</td>\n",
       "      <td>196</td>\n",
       "      <td>Básico</td>\n",
       "      <td>TITULAR</td>\n",
       "      <td>M</td>\n",
       "      <td>55</td>\n",
       "      <td>20/09/1964</td>\n",
       "      <td>54-58</td>\n",
       "    </tr>\n",
       "    <tr>\n",
       "      <th>3</th>\n",
       "      <td>5</td>\n",
       "      <td>2020</td>\n",
       "      <td>114</td>\n",
       "      <td>187</td>\n",
       "      <td>Básico</td>\n",
       "      <td>TITULAR</td>\n",
       "      <td>M</td>\n",
       "      <td>36</td>\n",
       "      <td>21/07/1983</td>\n",
       "      <td>34-38</td>\n",
       "    </tr>\n",
       "    <tr>\n",
       "      <th>4</th>\n",
       "      <td>5</td>\n",
       "      <td>2020</td>\n",
       "      <td>52</td>\n",
       "      <td>87</td>\n",
       "      <td>Básico</td>\n",
       "      <td>TITULAR</td>\n",
       "      <td>M</td>\n",
       "      <td>47</td>\n",
       "      <td>15/07/1972</td>\n",
       "      <td>44-48</td>\n",
       "    </tr>\n",
       "  </tbody>\n",
       "</table>\n",
       "</div>"
      ],
      "text/plain": [
       "   MÊS DE REFERÊNCIA  ANO DE REFERÊNCIA  CODIGO DA FAMILIA  \\\n",
       "0                  5               2020                314   \n",
       "1                  5               2020                 46   \n",
       "2                  5               2020                123   \n",
       "3                  5               2020                114   \n",
       "4                  5               2020                 52   \n",
       "\n",
       "   CODIGO ÚNICO DA PESSOA   PLANO TITULARIDADE SEXO  IDADE DATA DE NASCIMENTO  \\\n",
       "0                     844  Básico      TITULAR    M     20         16/02/2000   \n",
       "1                      71  Básico      TITULAR    M     44         21/04/1976   \n",
       "2                     196  Básico      TITULAR    M     55         20/09/1964   \n",
       "3                     187  Básico      TITULAR    M     36         21/07/1983   \n",
       "4                      87  Básico      TITULAR    M     47         15/07/1972   \n",
       "\n",
       "  FAIXA ETÁRIA  \n",
       "0        19-23  \n",
       "1        44-48  \n",
       "2        54-58  \n",
       "3        34-38  \n",
       "4        44-48  "
      ]
     },
     "execution_count": 15,
     "metadata": {},
     "output_type": "execute_result"
    }
   ],
   "source": [
    "# Visualizing cadastro_base dataframe\n",
    "cadastro_base.head()"
   ]
  },
  {
   "cell_type": "code",
   "execution_count": 17,
   "metadata": {},
   "outputs": [
    {
     "name": "stdout",
     "output_type": "stream",
     "text": [
      "<class 'pandas.core.frame.DataFrame'>\n",
      "RangeIndex: 16736 entries, 0 to 16735\n",
      "Data columns (total 10 columns):\n",
      " #   Column                  Non-Null Count  Dtype \n",
      "---  ------                  --------------  ----- \n",
      " 0   MÊS DE REFERÊNCIA       16736 non-null  int64 \n",
      " 1   ANO DE REFERÊNCIA       16736 non-null  int64 \n",
      " 2   CODIGO DA FAMILIA       16736 non-null  int64 \n",
      " 3   CODIGO ÚNICO DA PESSOA  16736 non-null  int64 \n",
      " 4   PLANO                   16736 non-null  object\n",
      " 5   TITULARIDADE            16736 non-null  object\n",
      " 6   SEXO                    16736 non-null  object\n",
      " 7   IDADE                   16736 non-null  int64 \n",
      " 8   DATA DE NASCIMENTO      16736 non-null  object\n",
      " 9   FAIXA ETÁRIA            16736 non-null  object\n",
      "dtypes: int64(5), object(5)\n",
      "memory usage: 1.3+ MB\n"
     ]
    }
   ],
   "source": [
    "# Informations of cadastro_base dataframe\n",
    "cadastro_base.info()"
   ]
  },
  {
   "cell_type": "code",
   "execution_count": 16,
   "metadata": {},
   "outputs": [
    {
     "data": {
      "text/html": [
       "<div>\n",
       "<style scoped>\n",
       "    .dataframe tbody tr th:only-of-type {\n",
       "        vertical-align: middle;\n",
       "    }\n",
       "\n",
       "    .dataframe tbody tr th {\n",
       "        vertical-align: top;\n",
       "    }\n",
       "\n",
       "    .dataframe thead th {\n",
       "        text-align: right;\n",
       "    }\n",
       "</style>\n",
       "<table border=\"1\" class=\"dataframe\">\n",
       "  <thead>\n",
       "    <tr style=\"text-align: right;\">\n",
       "      <th></th>\n",
       "      <th>DATA DE REFERENCIA</th>\n",
       "      <th>CODIGO DO EVENTO</th>\n",
       "      <th>FONTE</th>\n",
       "      <th>PLANO</th>\n",
       "      <th>TITULARIDADE</th>\n",
       "      <th>CODIGO DA FAMILIA</th>\n",
       "      <th>CODIGO ÚNICO DA PESSOA</th>\n",
       "      <th>DATA DO EVENTO</th>\n",
       "      <th>PRESTADOR</th>\n",
       "      <th>VALOR DO EVENTO</th>\n",
       "      <th>DESCRITOR DO EVENTO</th>\n",
       "      <th>INTERNACAO?</th>\n",
       "    </tr>\n",
       "  </thead>\n",
       "  <tbody>\n",
       "    <tr>\n",
       "      <th>0</th>\n",
       "      <td>01-05-2020</td>\n",
       "      <td>10101012</td>\n",
       "      <td>REDE</td>\n",
       "      <td>Básico</td>\n",
       "      <td>DEPENDENTE</td>\n",
       "      <td>184</td>\n",
       "      <td>418</td>\n",
       "      <td>13/03/2020</td>\n",
       "      <td>256</td>\n",
       "      <td>64.02</td>\n",
       "      <td>CONSULTA MEDICA EM CONSULTORIO</td>\n",
       "      <td>Não</td>\n",
       "    </tr>\n",
       "    <tr>\n",
       "      <th>1</th>\n",
       "      <td>01-05-2020</td>\n",
       "      <td>10101012</td>\n",
       "      <td>REDE</td>\n",
       "      <td>Básico</td>\n",
       "      <td>DEPENDENTE</td>\n",
       "      <td>198</td>\n",
       "      <td>421</td>\n",
       "      <td>17/03/2020</td>\n",
       "      <td>256</td>\n",
       "      <td>65.20</td>\n",
       "      <td>CONSULTA MEDICA EM CONSULTORIO</td>\n",
       "      <td>Não</td>\n",
       "    </tr>\n",
       "    <tr>\n",
       "      <th>2</th>\n",
       "      <td>01-05-2020</td>\n",
       "      <td>10101012</td>\n",
       "      <td>REDE</td>\n",
       "      <td>Básico</td>\n",
       "      <td>TITULAR</td>\n",
       "      <td>199</td>\n",
       "      <td>502</td>\n",
       "      <td>13/03/2020</td>\n",
       "      <td>256</td>\n",
       "      <td>65.20</td>\n",
       "      <td>CONSULTA MEDICA EM CONSULTORIO</td>\n",
       "      <td>Não</td>\n",
       "    </tr>\n",
       "    <tr>\n",
       "      <th>3</th>\n",
       "      <td>01-05-2020</td>\n",
       "      <td>10101012</td>\n",
       "      <td>REDE</td>\n",
       "      <td>Básico</td>\n",
       "      <td>TITULAR</td>\n",
       "      <td>199</td>\n",
       "      <td>502</td>\n",
       "      <td>18/03/2020</td>\n",
       "      <td>256</td>\n",
       "      <td>65.20</td>\n",
       "      <td>CONSULTA MEDICA EM CONSULTORIO</td>\n",
       "      <td>Não</td>\n",
       "    </tr>\n",
       "    <tr>\n",
       "      <th>4</th>\n",
       "      <td>01-05-2020</td>\n",
       "      <td>10101012</td>\n",
       "      <td>REDE</td>\n",
       "      <td>Básico</td>\n",
       "      <td>TITULAR</td>\n",
       "      <td>199</td>\n",
       "      <td>502</td>\n",
       "      <td>08/04/2020</td>\n",
       "      <td>1332</td>\n",
       "      <td>103.00</td>\n",
       "      <td>CONSULTA MEDICA EM CONSULTORIO</td>\n",
       "      <td>Não</td>\n",
       "    </tr>\n",
       "  </tbody>\n",
       "</table>\n",
       "</div>"
      ],
      "text/plain": [
       "  DATA DE REFERENCIA  CODIGO DO EVENTO FONTE   PLANO TITULARIDADE  \\\n",
       "0         01-05-2020          10101012  REDE  Básico   DEPENDENTE   \n",
       "1         01-05-2020          10101012  REDE  Básico   DEPENDENTE   \n",
       "2         01-05-2020          10101012  REDE  Básico      TITULAR   \n",
       "3         01-05-2020          10101012  REDE  Básico      TITULAR   \n",
       "4         01-05-2020          10101012  REDE  Básico      TITULAR   \n",
       "\n",
       "   CODIGO DA FAMILIA  CODIGO ÚNICO DA PESSOA DATA DO EVENTO  PRESTADOR  \\\n",
       "0                184                     418     13/03/2020        256   \n",
       "1                198                     421     17/03/2020        256   \n",
       "2                199                     502     13/03/2020        256   \n",
       "3                199                     502     18/03/2020        256   \n",
       "4                199                     502     08/04/2020       1332   \n",
       "\n",
       "   VALOR DO EVENTO             DESCRITOR DO EVENTO INTERNACAO?  \n",
       "0            64.02  CONSULTA MEDICA EM CONSULTORIO         Não  \n",
       "1            65.20  CONSULTA MEDICA EM CONSULTORIO         Não  \n",
       "2            65.20  CONSULTA MEDICA EM CONSULTORIO         Não  \n",
       "3            65.20  CONSULTA MEDICA EM CONSULTORIO         Não  \n",
       "4           103.00  CONSULTA MEDICA EM CONSULTORIO         Não  "
      ]
     },
     "execution_count": 16,
     "metadata": {},
     "output_type": "execute_result"
    }
   ],
   "source": [
    "# Visualizing sinistros_base dataframe\n",
    "sinistros_base.head()"
   ]
  },
  {
   "cell_type": "code",
   "execution_count": 18,
   "metadata": {},
   "outputs": [
    {
     "name": "stdout",
     "output_type": "stream",
     "text": [
      "<class 'pandas.core.frame.DataFrame'>\n",
      "RangeIndex: 48965 entries, 0 to 48964\n",
      "Data columns (total 12 columns):\n",
      " #   Column                  Non-Null Count  Dtype  \n",
      "---  ------                  --------------  -----  \n",
      " 0   DATA DE REFERENCIA      48965 non-null  object \n",
      " 1   CODIGO DO EVENTO        48965 non-null  int64  \n",
      " 2   FONTE                   48965 non-null  object \n",
      " 3   PLANO                   48965 non-null  object \n",
      " 4   TITULARIDADE            48965 non-null  object \n",
      " 5   CODIGO DA FAMILIA       48965 non-null  int64  \n",
      " 6   CODIGO ÚNICO DA PESSOA  48965 non-null  int64  \n",
      " 7   DATA DO EVENTO          48965 non-null  object \n",
      " 8   PRESTADOR               48965 non-null  int64  \n",
      " 9   VALOR DO EVENTO         48965 non-null  float64\n",
      " 10  DESCRITOR DO EVENTO     48965 non-null  object \n",
      " 11  INTERNACAO?             48965 non-null  object \n",
      "dtypes: float64(1), int64(4), object(7)\n",
      "memory usage: 4.5+ MB\n"
     ]
    }
   ],
   "source": [
    "# Informations of sinistros_base dataframe\n",
    "sinistros_base.info()"
   ]
  },
  {
   "cell_type": "code",
   "execution_count": null,
   "metadata": {},
   "outputs": [],
   "source": []
  },
  {
   "cell_type": "markdown",
   "metadata": {},
   "source": [
    "### Preliminary information\n",
    "\n",
    "- Both dataframes have all information complete, without missing values;\n",
    "- Only the date columns need to be transformed, as they are not in datetime format, but the others are in the correct data type, either int, float, or object/string."
   ]
  },
  {
   "cell_type": "markdown",
   "metadata": {},
   "source": [
    "## Exploratory Analysis & Visualization"
   ]
  },
  {
   "cell_type": "markdown",
   "metadata": {},
   "source": [
    "## Questions & Answers (Q&A)"
   ]
  },
  {
   "cell_type": "markdown",
   "metadata": {},
   "source": [
    "## Summary & Conclusion"
   ]
  }
 ],
 "metadata": {
  "kernelspec": {
   "display_name": "Python 3",
   "language": "python",
   "name": "python3"
  },
  "language_info": {
   "codemirror_mode": {
    "name": "ipython",
    "version": 3
   },
   "file_extension": ".py",
   "mimetype": "text/x-python",
   "name": "python",
   "nbconvert_exporter": "python",
   "pygments_lexer": "ipython3",
   "version": "3.10.0"
  }
 },
 "nbformat": 4,
 "nbformat_minor": 2
}
