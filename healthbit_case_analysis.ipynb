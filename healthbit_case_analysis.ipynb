{
 "cells": [
  {
   "cell_type": "markdown",
   "metadata": {},
   "source": [
    "# HealthBit Data Analyst Case\n",
    "\n",
    "**Author**: Victor de Paula Silva\n",
    "\n",
    "**Email**: victor.depaula@live.com / victordepaula24@gmail.com"
   ]
  },
  {
   "cell_type": "markdown",
   "metadata": {},
   "source": [
    "## Introduction\n",
    "\n",
    "1. Two databases are presented: one for beneficiary registration - cadastro_base (listing all beneficiaries in the health plan, with respective characteristics) and one for claims/utilizations of the plan - sinistros_base (each row is an event performed, with data such as procedure type, date of realization, etc.).\n",
    "2. The two databases are linked by the beneficiary.\n",
    "3. The beneficiaries are from a company in the industrial sector.\n",
    "4. The databases are updated monthly. Both the beneficiary registration database and the utilization database mirror what happened in each reference month/year."
   ]
  },
  {
   "cell_type": "markdown",
   "metadata": {},
   "source": [
    "## Preparing Environment"
   ]
  },
  {
   "cell_type": "markdown",
   "metadata": {},
   "source": [
    "### Auxiliary Libraries\n",
    "To work with data, Python provides us with some very useful tools:\n",
    "\n",
    "- Pandas: A library that works with reading, processing, and manipulating data, usually in a tabular or sequential form (lists or tables).\n",
    "- Numpy: A library for scientific computing, it helps us manipulate vectors, matrices, and perform mathematical operations on data.\n",
    "- Matplotlib: Matplotlib is a library that helps us create graphical visualizations of data.\n",
    "- Seaborn: Seaborn is an additional layer for Matplotlib, allowing us to create more complex and beautiful graphics.\n",
    "- Warnings: It is just a library for removing execution warnings (to avoid cluttering our study).\n",
    "- Sys: The sys module provides access to some variables used or maintained by the Python interpreter, and functions that interact with the interpreter, such as accessing command line arguments.\n",
    "- OS: The os module provides a portable way of using operating system dependent functionality, such as reading or writing to the file system, manipulating paths, and interacting with the system environment variables."
   ]
  },
  {
   "cell_type": "code",
   "execution_count": 1,
   "metadata": {},
   "outputs": [
    {
     "name": "stdout",
     "output_type": "stream",
     "text": [
      "Requirement already satisfied: openpyxl in c:\\users\\victor paula\\appdata\\local\\programs\\python\\python310\\lib\\site-packages (3.1.2)\n",
      "Requirement already satisfied: et-xmlfile in c:\\users\\victor paula\\appdata\\local\\programs\\python\\python310\\lib\\site-packages (from openpyxl) (1.1.0)\n"
     ]
    }
   ],
   "source": [
    "# Installing libraries\n",
    "!pip install openpyxl"
   ]
  },
  {
   "cell_type": "code",
   "execution_count": 2,
   "metadata": {},
   "outputs": [],
   "source": [
    "# Importing libraries\n",
    "import pandas as pd\n",
    "import numpy as np\n",
    "import matplotlib.pyplot as plt\n",
    "import seaborn as sns\n",
    "import warnings\n",
    "import sys\n",
    "import os"
   ]
  },
  {
   "cell_type": "code",
   "execution_count": 3,
   "metadata": {},
   "outputs": [
    {
     "name": "stdout",
     "output_type": "stream",
     "text": [
      "3.10.0 (tags/v3.10.0:b494f59, Oct  4 2021, 19:00:18) [MSC v.1929 64 bit (AMD64)]\n"
     ]
    }
   ],
   "source": [
    "# Python version\n",
    "print(sys.version)"
   ]
  },
  {
   "cell_type": "markdown",
   "metadata": {},
   "source": [
    "### Settings"
   ]
  },
  {
   "cell_type": "code",
   "execution_count": 4,
   "metadata": {},
   "outputs": [],
   "source": [
    "# Ignoring warnings\n",
    "warnings.filterwarnings(\"ignore\")"
   ]
  },
  {
   "cell_type": "code",
   "execution_count": 5,
   "metadata": {},
   "outputs": [],
   "source": [
    "# Setting Matplotlib figure patterns\n",
    "plt.rcParams['figure.figsize'] = (14, 6) # Size of the figures in inches\n",
    "plt.rcParams['axes.titlepad'] = 26 # Title padding"
   ]
  },
  {
   "cell_type": "code",
   "execution_count": 6,
   "metadata": {},
   "outputs": [],
   "source": [
    "# Setting Seaborn collor pallete\n",
    "sns.set_palette(\"Accent\") # Color palette\n",
    "sns.set_style(\"whitegrid\") # Graph style\n",
    "sns.set(font_scale=1.5) # Setting the font size"
   ]
  },
  {
   "cell_type": "code",
   "execution_count": 7,
   "metadata": {},
   "outputs": [],
   "source": [
    "# Setting numerical values on Pandas\n",
    "pd.set_option('display.float_format', lambda x: '%.2f' % x) # Formatting to 1000000.00 for example"
   ]
  },
  {
   "cell_type": "markdown",
   "metadata": {},
   "source": [
    "## Data Preparation & Cleaning"
   ]
  },
  {
   "cell_type": "code",
   "execution_count": 8,
   "metadata": {},
   "outputs": [
    {
     "data": {
      "text/plain": [
       "['beneficiaries.xlsx', 'cadastro_base.xlsx', 'sinistros_base.xlsx']"
      ]
     },
     "execution_count": 8,
     "metadata": {},
     "output_type": "execute_result"
    }
   ],
   "source": [
    "# Setting file path\n",
    "file_path = r'C:\\Users\\Victor Paula\\Documents\\Personal\\healthbit_data_analyst_case\\Database'\n",
    "\n",
    "# Listing files on path\n",
    "files = os.listdir(file_path)\n",
    "files"
   ]
  },
  {
   "cell_type": "code",
   "execution_count": 9,
   "metadata": {},
   "outputs": [],
   "source": [
    "# Dictionary to store dataframes\n",
    "dataframes = {}\n",
    "\n",
    "# Iterate over each file\n",
    "for file in files:\n",
    "    # Extracting dataframe name for file name\n",
    "    dataframe_name = file.split('.')[0]\n",
    "    # Reading Excel file and creating dataframe\n",
    "    dataframe = pd.read_excel(os.path.join(file_path, file))\n",
    "    # Storing dataframe in dictionary\n",
    "    dataframes[dataframe_name] = dataframe"
   ]
  },
  {
   "cell_type": "code",
   "execution_count": 10,
   "metadata": {},
   "outputs": [],
   "source": [
    "# Importing files and creating dataframes\n",
    "cadastro_base = dataframes['cadastro_base']\n",
    "sinistros_base = dataframes['sinistros_base']"
   ]
  },
  {
   "cell_type": "code",
   "execution_count": 11,
   "metadata": {},
   "outputs": [
    {
     "data": {
      "text/html": [
       "<div>\n",
       "<style scoped>\n",
       "    .dataframe tbody tr th:only-of-type {\n",
       "        vertical-align: middle;\n",
       "    }\n",
       "\n",
       "    .dataframe tbody tr th {\n",
       "        vertical-align: top;\n",
       "    }\n",
       "\n",
       "    .dataframe thead th {\n",
       "        text-align: right;\n",
       "    }\n",
       "</style>\n",
       "<table border=\"1\" class=\"dataframe\">\n",
       "  <thead>\n",
       "    <tr style=\"text-align: right;\">\n",
       "      <th></th>\n",
       "      <th>MÊS DE REFERÊNCIA</th>\n",
       "      <th>ANO DE REFERÊNCIA</th>\n",
       "      <th>CODIGO DA FAMILIA</th>\n",
       "      <th>CODIGO ÚNICO DA PESSOA</th>\n",
       "      <th>PLANO</th>\n",
       "      <th>TITULARIDADE</th>\n",
       "      <th>SEXO</th>\n",
       "      <th>IDADE</th>\n",
       "      <th>DATA DE NASCIMENTO</th>\n",
       "      <th>FAIXA ETÁRIA</th>\n",
       "    </tr>\n",
       "  </thead>\n",
       "  <tbody>\n",
       "    <tr>\n",
       "      <th>0</th>\n",
       "      <td>5</td>\n",
       "      <td>2020</td>\n",
       "      <td>314</td>\n",
       "      <td>844</td>\n",
       "      <td>Básico</td>\n",
       "      <td>TITULAR</td>\n",
       "      <td>M</td>\n",
       "      <td>20</td>\n",
       "      <td>16/02/2000</td>\n",
       "      <td>19-23</td>\n",
       "    </tr>\n",
       "    <tr>\n",
       "      <th>1</th>\n",
       "      <td>5</td>\n",
       "      <td>2020</td>\n",
       "      <td>46</td>\n",
       "      <td>71</td>\n",
       "      <td>Básico</td>\n",
       "      <td>TITULAR</td>\n",
       "      <td>M</td>\n",
       "      <td>44</td>\n",
       "      <td>21/04/1976</td>\n",
       "      <td>44-48</td>\n",
       "    </tr>\n",
       "    <tr>\n",
       "      <th>2</th>\n",
       "      <td>5</td>\n",
       "      <td>2020</td>\n",
       "      <td>123</td>\n",
       "      <td>196</td>\n",
       "      <td>Básico</td>\n",
       "      <td>TITULAR</td>\n",
       "      <td>M</td>\n",
       "      <td>55</td>\n",
       "      <td>20/09/1964</td>\n",
       "      <td>54-58</td>\n",
       "    </tr>\n",
       "    <tr>\n",
       "      <th>3</th>\n",
       "      <td>5</td>\n",
       "      <td>2020</td>\n",
       "      <td>114</td>\n",
       "      <td>187</td>\n",
       "      <td>Básico</td>\n",
       "      <td>TITULAR</td>\n",
       "      <td>M</td>\n",
       "      <td>36</td>\n",
       "      <td>21/07/1983</td>\n",
       "      <td>34-38</td>\n",
       "    </tr>\n",
       "    <tr>\n",
       "      <th>4</th>\n",
       "      <td>5</td>\n",
       "      <td>2020</td>\n",
       "      <td>52</td>\n",
       "      <td>87</td>\n",
       "      <td>Básico</td>\n",
       "      <td>TITULAR</td>\n",
       "      <td>M</td>\n",
       "      <td>47</td>\n",
       "      <td>15/07/1972</td>\n",
       "      <td>44-48</td>\n",
       "    </tr>\n",
       "  </tbody>\n",
       "</table>\n",
       "</div>"
      ],
      "text/plain": [
       "   MÊS DE REFERÊNCIA  ANO DE REFERÊNCIA  CODIGO DA FAMILIA  \\\n",
       "0                  5               2020                314   \n",
       "1                  5               2020                 46   \n",
       "2                  5               2020                123   \n",
       "3                  5               2020                114   \n",
       "4                  5               2020                 52   \n",
       "\n",
       "   CODIGO ÚNICO DA PESSOA   PLANO TITULARIDADE SEXO  IDADE DATA DE NASCIMENTO  \\\n",
       "0                     844  Básico      TITULAR    M     20         16/02/2000   \n",
       "1                      71  Básico      TITULAR    M     44         21/04/1976   \n",
       "2                     196  Básico      TITULAR    M     55         20/09/1964   \n",
       "3                     187  Básico      TITULAR    M     36         21/07/1983   \n",
       "4                      87  Básico      TITULAR    M     47         15/07/1972   \n",
       "\n",
       "  FAIXA ETÁRIA  \n",
       "0        19-23  \n",
       "1        44-48  \n",
       "2        54-58  \n",
       "3        34-38  \n",
       "4        44-48  "
      ]
     },
     "execution_count": 11,
     "metadata": {},
     "output_type": "execute_result"
    }
   ],
   "source": [
    "# Visualizing cadastro_base dataframe\n",
    "cadastro_base.head()"
   ]
  },
  {
   "cell_type": "code",
   "execution_count": 12,
   "metadata": {},
   "outputs": [
    {
     "data": {
      "text/plain": [
       "(16736, 10)"
      ]
     },
     "execution_count": 12,
     "metadata": {},
     "output_type": "execute_result"
    }
   ],
   "source": [
    "# Dataframe cadastro_base format\n",
    "cadastro_base.shape"
   ]
  },
  {
   "cell_type": "code",
   "execution_count": 13,
   "metadata": {},
   "outputs": [
    {
     "data": {
      "text/plain": [
       "Index(['MÊS DE REFERÊNCIA', 'ANO DE REFERÊNCIA', 'CODIGO DA FAMILIA',\n",
       "       'CODIGO ÚNICO DA PESSOA', 'PLANO', 'TITULARIDADE', 'SEXO', 'IDADE',\n",
       "       'DATA DE NASCIMENTO', 'FAIXA ETÁRIA'],\n",
       "      dtype='object')"
      ]
     },
     "execution_count": 13,
     "metadata": {},
     "output_type": "execute_result"
    }
   ],
   "source": [
    "# Dataframe cadastro_base columns\n",
    "cadastro_base.columns"
   ]
  },
  {
   "cell_type": "code",
   "execution_count": 14,
   "metadata": {},
   "outputs": [
    {
     "name": "stdout",
     "output_type": "stream",
     "text": [
      "<class 'pandas.core.frame.DataFrame'>\n",
      "RangeIndex: 16736 entries, 0 to 16735\n",
      "Data columns (total 10 columns):\n",
      " #   Column                  Non-Null Count  Dtype \n",
      "---  ------                  --------------  ----- \n",
      " 0   MÊS DE REFERÊNCIA       16736 non-null  int64 \n",
      " 1   ANO DE REFERÊNCIA       16736 non-null  int64 \n",
      " 2   CODIGO DA FAMILIA       16736 non-null  int64 \n",
      " 3   CODIGO ÚNICO DA PESSOA  16736 non-null  int64 \n",
      " 4   PLANO                   16736 non-null  object\n",
      " 5   TITULARIDADE            16736 non-null  object\n",
      " 6   SEXO                    16736 non-null  object\n",
      " 7   IDADE                   16736 non-null  int64 \n",
      " 8   DATA DE NASCIMENTO      16736 non-null  object\n",
      " 9   FAIXA ETÁRIA            16736 non-null  object\n",
      "dtypes: int64(5), object(5)\n",
      "memory usage: 1.3+ MB\n"
     ]
    }
   ],
   "source": [
    "# Informations of cadastro_base dataframe\n",
    "cadastro_base.info()"
   ]
  },
  {
   "cell_type": "code",
   "execution_count": 15,
   "metadata": {},
   "outputs": [
    {
     "data": {
      "text/html": [
       "<div>\n",
       "<style scoped>\n",
       "    .dataframe tbody tr th:only-of-type {\n",
       "        vertical-align: middle;\n",
       "    }\n",
       "\n",
       "    .dataframe tbody tr th {\n",
       "        vertical-align: top;\n",
       "    }\n",
       "\n",
       "    .dataframe thead th {\n",
       "        text-align: right;\n",
       "    }\n",
       "</style>\n",
       "<table border=\"1\" class=\"dataframe\">\n",
       "  <thead>\n",
       "    <tr style=\"text-align: right;\">\n",
       "      <th></th>\n",
       "      <th>DATA DE REFERENCIA</th>\n",
       "      <th>CODIGO DO EVENTO</th>\n",
       "      <th>FONTE</th>\n",
       "      <th>PLANO</th>\n",
       "      <th>TITULARIDADE</th>\n",
       "      <th>CODIGO DA FAMILIA</th>\n",
       "      <th>CODIGO ÚNICO DA PESSOA</th>\n",
       "      <th>DATA DO EVENTO</th>\n",
       "      <th>PRESTADOR</th>\n",
       "      <th>VALOR DO EVENTO</th>\n",
       "      <th>DESCRITOR DO EVENTO</th>\n",
       "      <th>INTERNACAO?</th>\n",
       "    </tr>\n",
       "  </thead>\n",
       "  <tbody>\n",
       "    <tr>\n",
       "      <th>0</th>\n",
       "      <td>01-05-2020</td>\n",
       "      <td>10101012</td>\n",
       "      <td>REDE</td>\n",
       "      <td>Básico</td>\n",
       "      <td>DEPENDENTE</td>\n",
       "      <td>184</td>\n",
       "      <td>418</td>\n",
       "      <td>13/03/2020</td>\n",
       "      <td>256</td>\n",
       "      <td>64.02</td>\n",
       "      <td>CONSULTA MEDICA EM CONSULTORIO</td>\n",
       "      <td>Não</td>\n",
       "    </tr>\n",
       "    <tr>\n",
       "      <th>1</th>\n",
       "      <td>01-05-2020</td>\n",
       "      <td>10101012</td>\n",
       "      <td>REDE</td>\n",
       "      <td>Básico</td>\n",
       "      <td>DEPENDENTE</td>\n",
       "      <td>198</td>\n",
       "      <td>421</td>\n",
       "      <td>17/03/2020</td>\n",
       "      <td>256</td>\n",
       "      <td>65.20</td>\n",
       "      <td>CONSULTA MEDICA EM CONSULTORIO</td>\n",
       "      <td>Não</td>\n",
       "    </tr>\n",
       "    <tr>\n",
       "      <th>2</th>\n",
       "      <td>01-05-2020</td>\n",
       "      <td>10101012</td>\n",
       "      <td>REDE</td>\n",
       "      <td>Básico</td>\n",
       "      <td>TITULAR</td>\n",
       "      <td>199</td>\n",
       "      <td>502</td>\n",
       "      <td>13/03/2020</td>\n",
       "      <td>256</td>\n",
       "      <td>65.20</td>\n",
       "      <td>CONSULTA MEDICA EM CONSULTORIO</td>\n",
       "      <td>Não</td>\n",
       "    </tr>\n",
       "    <tr>\n",
       "      <th>3</th>\n",
       "      <td>01-05-2020</td>\n",
       "      <td>10101012</td>\n",
       "      <td>REDE</td>\n",
       "      <td>Básico</td>\n",
       "      <td>TITULAR</td>\n",
       "      <td>199</td>\n",
       "      <td>502</td>\n",
       "      <td>18/03/2020</td>\n",
       "      <td>256</td>\n",
       "      <td>65.20</td>\n",
       "      <td>CONSULTA MEDICA EM CONSULTORIO</td>\n",
       "      <td>Não</td>\n",
       "    </tr>\n",
       "    <tr>\n",
       "      <th>4</th>\n",
       "      <td>01-05-2020</td>\n",
       "      <td>10101012</td>\n",
       "      <td>REDE</td>\n",
       "      <td>Básico</td>\n",
       "      <td>TITULAR</td>\n",
       "      <td>199</td>\n",
       "      <td>502</td>\n",
       "      <td>08/04/2020</td>\n",
       "      <td>1332</td>\n",
       "      <td>103.00</td>\n",
       "      <td>CONSULTA MEDICA EM CONSULTORIO</td>\n",
       "      <td>Não</td>\n",
       "    </tr>\n",
       "  </tbody>\n",
       "</table>\n",
       "</div>"
      ],
      "text/plain": [
       "  DATA DE REFERENCIA  CODIGO DO EVENTO FONTE   PLANO TITULARIDADE  \\\n",
       "0         01-05-2020          10101012  REDE  Básico   DEPENDENTE   \n",
       "1         01-05-2020          10101012  REDE  Básico   DEPENDENTE   \n",
       "2         01-05-2020          10101012  REDE  Básico      TITULAR   \n",
       "3         01-05-2020          10101012  REDE  Básico      TITULAR   \n",
       "4         01-05-2020          10101012  REDE  Básico      TITULAR   \n",
       "\n",
       "   CODIGO DA FAMILIA  CODIGO ÚNICO DA PESSOA DATA DO EVENTO  PRESTADOR  \\\n",
       "0                184                     418     13/03/2020        256   \n",
       "1                198                     421     17/03/2020        256   \n",
       "2                199                     502     13/03/2020        256   \n",
       "3                199                     502     18/03/2020        256   \n",
       "4                199                     502     08/04/2020       1332   \n",
       "\n",
       "   VALOR DO EVENTO             DESCRITOR DO EVENTO INTERNACAO?  \n",
       "0            64.02  CONSULTA MEDICA EM CONSULTORIO         Não  \n",
       "1            65.20  CONSULTA MEDICA EM CONSULTORIO         Não  \n",
       "2            65.20  CONSULTA MEDICA EM CONSULTORIO         Não  \n",
       "3            65.20  CONSULTA MEDICA EM CONSULTORIO         Não  \n",
       "4           103.00  CONSULTA MEDICA EM CONSULTORIO         Não  "
      ]
     },
     "execution_count": 15,
     "metadata": {},
     "output_type": "execute_result"
    }
   ],
   "source": [
    "# Visualizing sinistros_base dataframe\n",
    "sinistros_base.head()"
   ]
  },
  {
   "cell_type": "code",
   "execution_count": 16,
   "metadata": {},
   "outputs": [
    {
     "data": {
      "text/plain": [
       "(48965, 12)"
      ]
     },
     "execution_count": 16,
     "metadata": {},
     "output_type": "execute_result"
    }
   ],
   "source": [
    "# Dataframe sinistros_base format\n",
    "sinistros_base.shape"
   ]
  },
  {
   "cell_type": "code",
   "execution_count": 17,
   "metadata": {},
   "outputs": [
    {
     "data": {
      "text/plain": [
       "Index(['DATA DE REFERENCIA', 'CODIGO DO EVENTO', 'FONTE', 'PLANO',\n",
       "       'TITULARIDADE', 'CODIGO DA FAMILIA', 'CODIGO ÚNICO DA PESSOA',\n",
       "       'DATA DO EVENTO', 'PRESTADOR', 'VALOR DO EVENTO', 'DESCRITOR DO EVENTO',\n",
       "       'INTERNACAO?'],\n",
       "      dtype='object')"
      ]
     },
     "execution_count": 17,
     "metadata": {},
     "output_type": "execute_result"
    }
   ],
   "source": [
    "# Dataframe sinistros_base columns\n",
    "sinistros_base.columns"
   ]
  },
  {
   "cell_type": "code",
   "execution_count": 18,
   "metadata": {},
   "outputs": [
    {
     "name": "stdout",
     "output_type": "stream",
     "text": [
      "<class 'pandas.core.frame.DataFrame'>\n",
      "RangeIndex: 48965 entries, 0 to 48964\n",
      "Data columns (total 12 columns):\n",
      " #   Column                  Non-Null Count  Dtype  \n",
      "---  ------                  --------------  -----  \n",
      " 0   DATA DE REFERENCIA      48965 non-null  object \n",
      " 1   CODIGO DO EVENTO        48965 non-null  int64  \n",
      " 2   FONTE                   48965 non-null  object \n",
      " 3   PLANO                   48965 non-null  object \n",
      " 4   TITULARIDADE            48965 non-null  object \n",
      " 5   CODIGO DA FAMILIA       48965 non-null  int64  \n",
      " 6   CODIGO ÚNICO DA PESSOA  48965 non-null  int64  \n",
      " 7   DATA DO EVENTO          48965 non-null  object \n",
      " 8   PRESTADOR               48965 non-null  int64  \n",
      " 9   VALOR DO EVENTO         48965 non-null  float64\n",
      " 10  DESCRITOR DO EVENTO     48965 non-null  object \n",
      " 11  INTERNACAO?             48965 non-null  object \n",
      "dtypes: float64(1), int64(4), object(7)\n",
      "memory usage: 4.5+ MB\n"
     ]
    }
   ],
   "source": [
    "# Informations of sinistros_base dataframe\n",
    "sinistros_base.info()"
   ]
  },
  {
   "cell_type": "code",
   "execution_count": 19,
   "metadata": {},
   "outputs": [
    {
     "data": {
      "text/html": [
       "<div>\n",
       "<style scoped>\n",
       "    .dataframe tbody tr th:only-of-type {\n",
       "        vertical-align: middle;\n",
       "    }\n",
       "\n",
       "    .dataframe tbody tr th {\n",
       "        vertical-align: top;\n",
       "    }\n",
       "\n",
       "    .dataframe thead th {\n",
       "        text-align: right;\n",
       "    }\n",
       "</style>\n",
       "<table border=\"1\" class=\"dataframe\">\n",
       "  <thead>\n",
       "    <tr style=\"text-align: right;\">\n",
       "      <th></th>\n",
       "      <th>MÊS DE REFERÊNCIA</th>\n",
       "      <th>ANO DE REFERÊNCIA</th>\n",
       "      <th>CODIGO DA FAMILIA</th>\n",
       "      <th>CODIGO ÚNICO DA PESSOA</th>\n",
       "      <th>PLANO</th>\n",
       "      <th>TITULARIDADE</th>\n",
       "      <th>SEXO</th>\n",
       "      <th>IDADE</th>\n",
       "      <th>DATA DE NASCIMENTO</th>\n",
       "      <th>FAIXA ETÁRIA</th>\n",
       "    </tr>\n",
       "  </thead>\n",
       "  <tbody>\n",
       "    <tr>\n",
       "      <th>960</th>\n",
       "      <td>5</td>\n",
       "      <td>2020</td>\n",
       "      <td>737</td>\n",
       "      <td>1800</td>\n",
       "      <td>Básico</td>\n",
       "      <td>DEPENDENTE</td>\n",
       "      <td>M</td>\n",
       "      <td>17</td>\n",
       "      <td>00/00/0000</td>\n",
       "      <td>0-18</td>\n",
       "    </tr>\n",
       "    <tr>\n",
       "      <th>962</th>\n",
       "      <td>5</td>\n",
       "      <td>2020</td>\n",
       "      <td>738</td>\n",
       "      <td>1802</td>\n",
       "      <td>Básico</td>\n",
       "      <td>TITULAR</td>\n",
       "      <td>M</td>\n",
       "      <td>26</td>\n",
       "      <td>00/00/0000</td>\n",
       "      <td>24-28</td>\n",
       "    </tr>\n",
       "    <tr>\n",
       "      <th>963</th>\n",
       "      <td>5</td>\n",
       "      <td>2020</td>\n",
       "      <td>639</td>\n",
       "      <td>1580</td>\n",
       "      <td>Básico</td>\n",
       "      <td>TITULAR</td>\n",
       "      <td>M</td>\n",
       "      <td>49</td>\n",
       "      <td>00/00/0000</td>\n",
       "      <td>49-53</td>\n",
       "    </tr>\n",
       "    <tr>\n",
       "      <th>965</th>\n",
       "      <td>5</td>\n",
       "      <td>2020</td>\n",
       "      <td>714</td>\n",
       "      <td>1752</td>\n",
       "      <td>Básico</td>\n",
       "      <td>TITULAR</td>\n",
       "      <td>F</td>\n",
       "      <td>20</td>\n",
       "      <td>00/00/0000</td>\n",
       "      <td>19-23</td>\n",
       "    </tr>\n",
       "    <tr>\n",
       "      <th>1249</th>\n",
       "      <td>5</td>\n",
       "      <td>2020</td>\n",
       "      <td>739</td>\n",
       "      <td>1803</td>\n",
       "      <td>Médio</td>\n",
       "      <td>TITULAR</td>\n",
       "      <td>M</td>\n",
       "      <td>49</td>\n",
       "      <td>00/00/0000</td>\n",
       "      <td>49-53</td>\n",
       "    </tr>\n",
       "    <tr>\n",
       "      <th>2681</th>\n",
       "      <td>6</td>\n",
       "      <td>2020</td>\n",
       "      <td>744</td>\n",
       "      <td>1813</td>\n",
       "      <td>Superior</td>\n",
       "      <td>DEPENDENTE</td>\n",
       "      <td>F</td>\n",
       "      <td>46</td>\n",
       "      <td>00/00/0000</td>\n",
       "      <td>44-48</td>\n",
       "    </tr>\n",
       "    <tr>\n",
       "      <th>5032</th>\n",
       "      <td>8</td>\n",
       "      <td>2020</td>\n",
       "      <td>737</td>\n",
       "      <td>1842</td>\n",
       "      <td>Básico</td>\n",
       "      <td>DEPENDENTE</td>\n",
       "      <td>F</td>\n",
       "      <td>45</td>\n",
       "      <td>00/00/0000</td>\n",
       "      <td>44-48</td>\n",
       "    </tr>\n",
       "    <tr>\n",
       "      <th>5038</th>\n",
       "      <td>8</td>\n",
       "      <td>2020</td>\n",
       "      <td>752</td>\n",
       "      <td>1843</td>\n",
       "      <td>Básico</td>\n",
       "      <td>TITULAR</td>\n",
       "      <td>M</td>\n",
       "      <td>33</td>\n",
       "      <td>00/00/0000</td>\n",
       "      <td>29-33</td>\n",
       "    </tr>\n",
       "    <tr>\n",
       "      <th>5042</th>\n",
       "      <td>8</td>\n",
       "      <td>2020</td>\n",
       "      <td>641</td>\n",
       "      <td>1585</td>\n",
       "      <td>Básico</td>\n",
       "      <td>TITULAR</td>\n",
       "      <td>M</td>\n",
       "      <td>34</td>\n",
       "      <td>00/00/0000</td>\n",
       "      <td>34-38</td>\n",
       "    </tr>\n",
       "    <tr>\n",
       "      <th>5043</th>\n",
       "      <td>8</td>\n",
       "      <td>2020</td>\n",
       "      <td>641</td>\n",
       "      <td>1844</td>\n",
       "      <td>Básico</td>\n",
       "      <td>DEPENDENTE</td>\n",
       "      <td>F</td>\n",
       "      <td>36</td>\n",
       "      <td>00/00/0000</td>\n",
       "      <td>34-38</td>\n",
       "    </tr>\n",
       "    <tr>\n",
       "      <th>5044</th>\n",
       "      <td>8</td>\n",
       "      <td>2020</td>\n",
       "      <td>641</td>\n",
       "      <td>1845</td>\n",
       "      <td>Básico</td>\n",
       "      <td>DEPENDENTE</td>\n",
       "      <td>F</td>\n",
       "      <td>13</td>\n",
       "      <td>00/00/0000</td>\n",
       "      <td>0-18</td>\n",
       "    </tr>\n",
       "    <tr>\n",
       "      <th>5330</th>\n",
       "      <td>8</td>\n",
       "      <td>2020</td>\n",
       "      <td>753</td>\n",
       "      <td>1846</td>\n",
       "      <td>Médio</td>\n",
       "      <td>DEPENDENTE</td>\n",
       "      <td>M</td>\n",
       "      <td>11</td>\n",
       "      <td>00/00/0000</td>\n",
       "      <td>0-18</td>\n",
       "    </tr>\n",
       "  </tbody>\n",
       "</table>\n",
       "</div>"
      ],
      "text/plain": [
       "      MÊS DE REFERÊNCIA  ANO DE REFERÊNCIA  CODIGO DA FAMILIA  \\\n",
       "960                   5               2020                737   \n",
       "962                   5               2020                738   \n",
       "963                   5               2020                639   \n",
       "965                   5               2020                714   \n",
       "1249                  5               2020                739   \n",
       "2681                  6               2020                744   \n",
       "5032                  8               2020                737   \n",
       "5038                  8               2020                752   \n",
       "5042                  8               2020                641   \n",
       "5043                  8               2020                641   \n",
       "5044                  8               2020                641   \n",
       "5330                  8               2020                753   \n",
       "\n",
       "      CODIGO ÚNICO DA PESSOA     PLANO TITULARIDADE SEXO  IDADE  \\\n",
       "960                     1800    Básico   DEPENDENTE    M     17   \n",
       "962                     1802    Básico      TITULAR    M     26   \n",
       "963                     1580    Básico      TITULAR    M     49   \n",
       "965                     1752    Básico      TITULAR    F     20   \n",
       "1249                    1803     Médio      TITULAR    M     49   \n",
       "2681                    1813  Superior   DEPENDENTE    F     46   \n",
       "5032                    1842    Básico   DEPENDENTE    F     45   \n",
       "5038                    1843    Básico      TITULAR    M     33   \n",
       "5042                    1585    Básico      TITULAR    M     34   \n",
       "5043                    1844    Básico   DEPENDENTE    F     36   \n",
       "5044                    1845    Básico   DEPENDENTE    F     13   \n",
       "5330                    1846     Médio   DEPENDENTE    M     11   \n",
       "\n",
       "     DATA DE NASCIMENTO FAIXA ETÁRIA  \n",
       "960          00/00/0000         0-18  \n",
       "962          00/00/0000        24-28  \n",
       "963          00/00/0000        49-53  \n",
       "965          00/00/0000        19-23  \n",
       "1249         00/00/0000        49-53  \n",
       "2681         00/00/0000        44-48  \n",
       "5032         00/00/0000        44-48  \n",
       "5038         00/00/0000        29-33  \n",
       "5042         00/00/0000        34-38  \n",
       "5043         00/00/0000        34-38  \n",
       "5044         00/00/0000         0-18  \n",
       "5330         00/00/0000         0-18  "
      ]
     },
     "execution_count": 19,
     "metadata": {},
     "output_type": "execute_result"
    }
   ],
   "source": [
    "# Filtering results with invalid dates\n",
    "cadastro_base_invalid_dates = cadastro_base[cadastro_base['DATA DE NASCIMENTO'] == '00/00/0000']\n",
    "cadastro_base_invalid_dates"
   ]
  },
  {
   "cell_type": "code",
   "execution_count": 20,
   "metadata": {},
   "outputs": [
    {
     "data": {
      "text/html": [
       "<div>\n",
       "<style scoped>\n",
       "    .dataframe tbody tr th:only-of-type {\n",
       "        vertical-align: middle;\n",
       "    }\n",
       "\n",
       "    .dataframe tbody tr th {\n",
       "        vertical-align: top;\n",
       "    }\n",
       "\n",
       "    .dataframe thead th {\n",
       "        text-align: right;\n",
       "    }\n",
       "</style>\n",
       "<table border=\"1\" class=\"dataframe\">\n",
       "  <thead>\n",
       "    <tr style=\"text-align: right;\">\n",
       "      <th></th>\n",
       "      <th>MÊS DE REFERÊNCIA</th>\n",
       "      <th>ANO DE REFERÊNCIA</th>\n",
       "      <th>CODIGO DA FAMILIA</th>\n",
       "      <th>CODIGO ÚNICO DA PESSOA</th>\n",
       "      <th>PLANO</th>\n",
       "      <th>TITULARIDADE</th>\n",
       "      <th>SEXO</th>\n",
       "      <th>IDADE</th>\n",
       "      <th>DATA DE NASCIMENTO</th>\n",
       "      <th>FAIXA ETÁRIA</th>\n",
       "    </tr>\n",
       "  </thead>\n",
       "  <tbody>\n",
       "    <tr>\n",
       "      <th>963</th>\n",
       "      <td>5</td>\n",
       "      <td>2020</td>\n",
       "      <td>639</td>\n",
       "      <td>1580</td>\n",
       "      <td>Básico</td>\n",
       "      <td>TITULAR</td>\n",
       "      <td>M</td>\n",
       "      <td>49</td>\n",
       "      <td>00/00/0000</td>\n",
       "      <td>49-53</td>\n",
       "    </tr>\n",
       "    <tr>\n",
       "      <th>5042</th>\n",
       "      <td>8</td>\n",
       "      <td>2020</td>\n",
       "      <td>641</td>\n",
       "      <td>1585</td>\n",
       "      <td>Básico</td>\n",
       "      <td>TITULAR</td>\n",
       "      <td>M</td>\n",
       "      <td>34</td>\n",
       "      <td>00/00/0000</td>\n",
       "      <td>34-38</td>\n",
       "    </tr>\n",
       "    <tr>\n",
       "      <th>965</th>\n",
       "      <td>5</td>\n",
       "      <td>2020</td>\n",
       "      <td>714</td>\n",
       "      <td>1752</td>\n",
       "      <td>Básico</td>\n",
       "      <td>TITULAR</td>\n",
       "      <td>F</td>\n",
       "      <td>20</td>\n",
       "      <td>00/00/0000</td>\n",
       "      <td>19-23</td>\n",
       "    </tr>\n",
       "    <tr>\n",
       "      <th>960</th>\n",
       "      <td>5</td>\n",
       "      <td>2020</td>\n",
       "      <td>737</td>\n",
       "      <td>1800</td>\n",
       "      <td>Básico</td>\n",
       "      <td>DEPENDENTE</td>\n",
       "      <td>M</td>\n",
       "      <td>17</td>\n",
       "      <td>00/00/0000</td>\n",
       "      <td>0-18</td>\n",
       "    </tr>\n",
       "    <tr>\n",
       "      <th>962</th>\n",
       "      <td>5</td>\n",
       "      <td>2020</td>\n",
       "      <td>738</td>\n",
       "      <td>1802</td>\n",
       "      <td>Básico</td>\n",
       "      <td>TITULAR</td>\n",
       "      <td>M</td>\n",
       "      <td>26</td>\n",
       "      <td>00/00/0000</td>\n",
       "      <td>24-28</td>\n",
       "    </tr>\n",
       "    <tr>\n",
       "      <th>1249</th>\n",
       "      <td>5</td>\n",
       "      <td>2020</td>\n",
       "      <td>739</td>\n",
       "      <td>1803</td>\n",
       "      <td>Médio</td>\n",
       "      <td>TITULAR</td>\n",
       "      <td>M</td>\n",
       "      <td>49</td>\n",
       "      <td>00/00/0000</td>\n",
       "      <td>49-53</td>\n",
       "    </tr>\n",
       "    <tr>\n",
       "      <th>2681</th>\n",
       "      <td>6</td>\n",
       "      <td>2020</td>\n",
       "      <td>744</td>\n",
       "      <td>1813</td>\n",
       "      <td>Superior</td>\n",
       "      <td>DEPENDENTE</td>\n",
       "      <td>F</td>\n",
       "      <td>46</td>\n",
       "      <td>00/00/0000</td>\n",
       "      <td>44-48</td>\n",
       "    </tr>\n",
       "    <tr>\n",
       "      <th>5032</th>\n",
       "      <td>8</td>\n",
       "      <td>2020</td>\n",
       "      <td>737</td>\n",
       "      <td>1842</td>\n",
       "      <td>Básico</td>\n",
       "      <td>DEPENDENTE</td>\n",
       "      <td>F</td>\n",
       "      <td>45</td>\n",
       "      <td>00/00/0000</td>\n",
       "      <td>44-48</td>\n",
       "    </tr>\n",
       "    <tr>\n",
       "      <th>5038</th>\n",
       "      <td>8</td>\n",
       "      <td>2020</td>\n",
       "      <td>752</td>\n",
       "      <td>1843</td>\n",
       "      <td>Básico</td>\n",
       "      <td>TITULAR</td>\n",
       "      <td>M</td>\n",
       "      <td>33</td>\n",
       "      <td>00/00/0000</td>\n",
       "      <td>29-33</td>\n",
       "    </tr>\n",
       "    <tr>\n",
       "      <th>5043</th>\n",
       "      <td>8</td>\n",
       "      <td>2020</td>\n",
       "      <td>641</td>\n",
       "      <td>1844</td>\n",
       "      <td>Básico</td>\n",
       "      <td>DEPENDENTE</td>\n",
       "      <td>F</td>\n",
       "      <td>36</td>\n",
       "      <td>00/00/0000</td>\n",
       "      <td>34-38</td>\n",
       "    </tr>\n",
       "    <tr>\n",
       "      <th>5044</th>\n",
       "      <td>8</td>\n",
       "      <td>2020</td>\n",
       "      <td>641</td>\n",
       "      <td>1845</td>\n",
       "      <td>Básico</td>\n",
       "      <td>DEPENDENTE</td>\n",
       "      <td>F</td>\n",
       "      <td>13</td>\n",
       "      <td>00/00/0000</td>\n",
       "      <td>0-18</td>\n",
       "    </tr>\n",
       "    <tr>\n",
       "      <th>5330</th>\n",
       "      <td>8</td>\n",
       "      <td>2020</td>\n",
       "      <td>753</td>\n",
       "      <td>1846</td>\n",
       "      <td>Médio</td>\n",
       "      <td>DEPENDENTE</td>\n",
       "      <td>M</td>\n",
       "      <td>11</td>\n",
       "      <td>00/00/0000</td>\n",
       "      <td>0-18</td>\n",
       "    </tr>\n",
       "  </tbody>\n",
       "</table>\n",
       "</div>"
      ],
      "text/plain": [
       "      MÊS DE REFERÊNCIA  ANO DE REFERÊNCIA  CODIGO DA FAMILIA  \\\n",
       "963                   5               2020                639   \n",
       "5042                  8               2020                641   \n",
       "965                   5               2020                714   \n",
       "960                   5               2020                737   \n",
       "962                   5               2020                738   \n",
       "1249                  5               2020                739   \n",
       "2681                  6               2020                744   \n",
       "5032                  8               2020                737   \n",
       "5038                  8               2020                752   \n",
       "5043                  8               2020                641   \n",
       "5044                  8               2020                641   \n",
       "5330                  8               2020                753   \n",
       "\n",
       "      CODIGO ÚNICO DA PESSOA     PLANO TITULARIDADE SEXO  IDADE  \\\n",
       "963                     1580    Básico      TITULAR    M     49   \n",
       "5042                    1585    Básico      TITULAR    M     34   \n",
       "965                     1752    Básico      TITULAR    F     20   \n",
       "960                     1800    Básico   DEPENDENTE    M     17   \n",
       "962                     1802    Básico      TITULAR    M     26   \n",
       "1249                    1803     Médio      TITULAR    M     49   \n",
       "2681                    1813  Superior   DEPENDENTE    F     46   \n",
       "5032                    1842    Básico   DEPENDENTE    F     45   \n",
       "5038                    1843    Básico      TITULAR    M     33   \n",
       "5043                    1844    Básico   DEPENDENTE    F     36   \n",
       "5044                    1845    Básico   DEPENDENTE    F     13   \n",
       "5330                    1846     Médio   DEPENDENTE    M     11   \n",
       "\n",
       "     DATA DE NASCIMENTO FAIXA ETÁRIA  \n",
       "963          00/00/0000        49-53  \n",
       "5042         00/00/0000        34-38  \n",
       "965          00/00/0000        19-23  \n",
       "960          00/00/0000         0-18  \n",
       "962          00/00/0000        24-28  \n",
       "1249         00/00/0000        49-53  \n",
       "2681         00/00/0000        44-48  \n",
       "5032         00/00/0000        44-48  \n",
       "5038         00/00/0000        29-33  \n",
       "5043         00/00/0000        34-38  \n",
       "5044         00/00/0000         0-18  \n",
       "5330         00/00/0000         0-18  "
      ]
     },
     "execution_count": 20,
     "metadata": {},
     "output_type": "execute_result"
    }
   ],
   "source": [
    "# Extracting unique values from the 'CODIGO ÚNICO DA PESSOA' column\n",
    "unique_beneficiary_code = cadastro_base_invalid_dates['CODIGO ÚNICO DA PESSOA'].unique()\n",
    "\n",
    "# Filtering cadastro_base based on unique_beneficiary_code\n",
    "cadastro_base[cadastro_base['CODIGO ÚNICO DA PESSOA'].isin(unique_beneficiary_code)].sort_values(by='CODIGO ÚNICO DA PESSOA')"
   ]
  },
  {
   "cell_type": "code",
   "execution_count": 21,
   "metadata": {},
   "outputs": [],
   "source": [
    "# Transforming date columns in cadastro_base dataframe\n",
    "date_column = 'DATA DE NASCIMENTO'\n",
    "\n",
    "# Function to convert invalid dates to the first valid date\n",
    "def convert_invalid_date(date_string):\n",
    "    if date_string == \"00/00/0000\":\n",
    "        return \"01/01/1900\"\n",
    "    else:\n",
    "        return date_string\n",
    "\n",
    "# Applying pd.to_datetime with lambda function to handle invalid dates\n",
    "cadastro_base[date_column] = cadastro_base[date_column].apply(lambda x: convert_invalid_date(x))\n",
    "\n",
    "# Converting the date column to datetime format\n",
    "cadastro_base[date_column] = pd.to_datetime(cadastro_base[date_column], format='%d/%m/%Y')"
   ]
  },
  {
   "cell_type": "code",
   "execution_count": 22,
   "metadata": {},
   "outputs": [
    {
     "name": "stdout",
     "output_type": "stream",
     "text": [
      "<class 'pandas.core.frame.DataFrame'>\n",
      "RangeIndex: 16736 entries, 0 to 16735\n",
      "Data columns (total 10 columns):\n",
      " #   Column                  Non-Null Count  Dtype         \n",
      "---  ------                  --------------  -----         \n",
      " 0   MÊS DE REFERÊNCIA       16736 non-null  int64         \n",
      " 1   ANO DE REFERÊNCIA       16736 non-null  int64         \n",
      " 2   CODIGO DA FAMILIA       16736 non-null  int64         \n",
      " 3   CODIGO ÚNICO DA PESSOA  16736 non-null  int64         \n",
      " 4   PLANO                   16736 non-null  object        \n",
      " 5   TITULARIDADE            16736 non-null  object        \n",
      " 6   SEXO                    16736 non-null  object        \n",
      " 7   IDADE                   16736 non-null  int64         \n",
      " 8   DATA DE NASCIMENTO      16736 non-null  datetime64[ns]\n",
      " 9   FAIXA ETÁRIA            16736 non-null  object        \n",
      "dtypes: datetime64[ns](1), int64(5), object(4)\n",
      "memory usage: 1.3+ MB\n"
     ]
    }
   ],
   "source": [
    "# Visualizing cadastro_base after transformation\n",
    "cadastro_base.info()"
   ]
  },
  {
   "cell_type": "code",
   "execution_count": 23,
   "metadata": {},
   "outputs": [],
   "source": [
    "# Transforming date columns in sinistros_base dataframe\n",
    "date_columns = ['DATA DE REFERENCIA', 'DATA DO EVENTO']\n",
    "sinistros_base[date_columns] = sinistros_base[date_columns].apply(pd.to_datetime, format='mixed')"
   ]
  },
  {
   "cell_type": "code",
   "execution_count": 24,
   "metadata": {},
   "outputs": [
    {
     "name": "stdout",
     "output_type": "stream",
     "text": [
      "<class 'pandas.core.frame.DataFrame'>\n",
      "RangeIndex: 48965 entries, 0 to 48964\n",
      "Data columns (total 12 columns):\n",
      " #   Column                  Non-Null Count  Dtype         \n",
      "---  ------                  --------------  -----         \n",
      " 0   DATA DE REFERENCIA      48965 non-null  datetime64[ns]\n",
      " 1   CODIGO DO EVENTO        48965 non-null  int64         \n",
      " 2   FONTE                   48965 non-null  object        \n",
      " 3   PLANO                   48965 non-null  object        \n",
      " 4   TITULARIDADE            48965 non-null  object        \n",
      " 5   CODIGO DA FAMILIA       48965 non-null  int64         \n",
      " 6   CODIGO ÚNICO DA PESSOA  48965 non-null  int64         \n",
      " 7   DATA DO EVENTO          48965 non-null  datetime64[ns]\n",
      " 8   PRESTADOR               48965 non-null  int64         \n",
      " 9   VALOR DO EVENTO         48965 non-null  float64       \n",
      " 10  DESCRITOR DO EVENTO     48965 non-null  object        \n",
      " 11  INTERNACAO?             48965 non-null  object        \n",
      "dtypes: datetime64[ns](2), float64(1), int64(4), object(5)\n",
      "memory usage: 4.5+ MB\n"
     ]
    }
   ],
   "source": [
    "# Visualizing sinistros_base after transformation\n",
    "sinistros_base.info()"
   ]
  },
  {
   "cell_type": "markdown",
   "metadata": {},
   "source": [
    "### Preliminary information\n",
    "\n",
    "- Both dataframes have all information complete, without missing values;\n",
    "- Only the date columns need to be transformed, as they are not in datetime format, but the others are in the correct data type, either int, float, or object/string;\n",
    "- `cadastro_base` has 12 records with invalid dates (00/00/0000) that needed to be treated, so the column could be converted to datetime. `sinistros_base` does not have the same problem."
   ]
  },
  {
   "cell_type": "markdown",
   "metadata": {},
   "source": [
    "## Exploratory Analysis & Visualization"
   ]
  },
  {
   "cell_type": "markdown",
   "metadata": {},
   "source": [
    "### cadastro_base"
   ]
  },
  {
   "cell_type": "code",
   "execution_count": 25,
   "metadata": {},
   "outputs": [
    {
     "data": {
      "text/plain": [
       "1679"
      ]
     },
     "execution_count": 25,
     "metadata": {},
     "output_type": "execute_result"
    }
   ],
   "source": [
    "# Number of unique beneficiaries\n",
    "unique_beneficiaries = cadastro_base['CODIGO ÚNICO DA PESSOA'].nunique()\n",
    "unique_beneficiaries"
   ]
  },
  {
   "cell_type": "code",
   "execution_count": 26,
   "metadata": {},
   "outputs": [
    {
     "data": {
      "text/plain": [
       "CODIGO ÚNICO DA PESSOA\n",
       "228     3\n",
       "810     3\n",
       "973     2\n",
       "981     2\n",
       "980     2\n",
       "       ..\n",
       "475     2\n",
       "474     2\n",
       "473     2\n",
       "472     2\n",
       "1650    2\n",
       "Name: IDADE, Length: 1225, dtype: int64"
      ]
     },
     "execution_count": 26,
     "metadata": {},
     "output_type": "execute_result"
    }
   ],
   "source": [
    "# Visualizing clients with more than 1 age registered\n",
    "multiple_ages = cadastro_base.groupby('CODIGO ÚNICO DA PESSOA')['IDADE'].nunique().loc[lambda x: x > 1].sort_values(ascending=False)\n",
    "multiple_ages"
   ]
  },
  {
   "cell_type": "code",
   "execution_count": 27,
   "metadata": {},
   "outputs": [
    {
     "data": {
      "text/html": [
       "<div>\n",
       "<style scoped>\n",
       "    .dataframe tbody tr th:only-of-type {\n",
       "        vertical-align: middle;\n",
       "    }\n",
       "\n",
       "    .dataframe tbody tr th {\n",
       "        vertical-align: top;\n",
       "    }\n",
       "\n",
       "    .dataframe thead th {\n",
       "        text-align: right;\n",
       "    }\n",
       "</style>\n",
       "<table border=\"1\" class=\"dataframe\">\n",
       "  <thead>\n",
       "    <tr style=\"text-align: right;\">\n",
       "      <th></th>\n",
       "      <th>MÊS DE REFERÊNCIA</th>\n",
       "      <th>ANO DE REFERÊNCIA</th>\n",
       "      <th>CODIGO DA FAMILIA</th>\n",
       "      <th>CODIGO ÚNICO DA PESSOA</th>\n",
       "      <th>IDADE</th>\n",
       "      <th>DATA DE NASCIMENTO</th>\n",
       "    </tr>\n",
       "  </thead>\n",
       "  <tbody>\n",
       "    <tr>\n",
       "      <th>count</th>\n",
       "      <td>16736.00</td>\n",
       "      <td>16736.00</td>\n",
       "      <td>16736.00</td>\n",
       "      <td>16736.00</td>\n",
       "      <td>16736.00</td>\n",
       "      <td>16736</td>\n",
       "    </tr>\n",
       "    <tr>\n",
       "      <th>mean</th>\n",
       "      <td>6.47</td>\n",
       "      <td>2020.34</td>\n",
       "      <td>273.84</td>\n",
       "      <td>756.09</td>\n",
       "      <td>27.96</td>\n",
       "      <td>1992-04-09 13:01:46.692160640</td>\n",
       "    </tr>\n",
       "    <tr>\n",
       "      <th>min</th>\n",
       "      <td>1.00</td>\n",
       "      <td>2020.00</td>\n",
       "      <td>1.00</td>\n",
       "      <td>1.00</td>\n",
       "      <td>0.00</td>\n",
       "      <td>1900-01-01 00:00:00</td>\n",
       "    </tr>\n",
       "    <tr>\n",
       "      <th>25%</th>\n",
       "      <td>3.00</td>\n",
       "      <td>2020.00</td>\n",
       "      <td>112.00</td>\n",
       "      <td>365.00</td>\n",
       "      <td>14.00</td>\n",
       "      <td>1980-06-30 00:00:00</td>\n",
       "    </tr>\n",
       "    <tr>\n",
       "      <th>50%</th>\n",
       "      <td>6.00</td>\n",
       "      <td>2020.00</td>\n",
       "      <td>243.00</td>\n",
       "      <td>727.00</td>\n",
       "      <td>30.00</td>\n",
       "      <td>1990-04-27 00:00:00</td>\n",
       "    </tr>\n",
       "    <tr>\n",
       "      <th>75%</th>\n",
       "      <td>10.00</td>\n",
       "      <td>2021.00</td>\n",
       "      <td>424.00</td>\n",
       "      <td>1140.00</td>\n",
       "      <td>40.00</td>\n",
       "      <td>2006-05-05 00:00:00</td>\n",
       "    </tr>\n",
       "    <tr>\n",
       "      <th>max</th>\n",
       "      <td>12.00</td>\n",
       "      <td>2021.00</td>\n",
       "      <td>754.00</td>\n",
       "      <td>1847.00</td>\n",
       "      <td>68.00</td>\n",
       "      <td>2021-04-26 00:00:00</td>\n",
       "    </tr>\n",
       "    <tr>\n",
       "      <th>std</th>\n",
       "      <td>3.47</td>\n",
       "      <td>0.47</td>\n",
       "      <td>184.53</td>\n",
       "      <td>455.02</td>\n",
       "      <td>15.94</td>\n",
       "      <td>NaN</td>\n",
       "    </tr>\n",
       "  </tbody>\n",
       "</table>\n",
       "</div>"
      ],
      "text/plain": [
       "       MÊS DE REFERÊNCIA  ANO DE REFERÊNCIA  CODIGO DA FAMILIA  \\\n",
       "count           16736.00           16736.00           16736.00   \n",
       "mean                6.47            2020.34             273.84   \n",
       "min                 1.00            2020.00               1.00   \n",
       "25%                 3.00            2020.00             112.00   \n",
       "50%                 6.00            2020.00             243.00   \n",
       "75%                10.00            2021.00             424.00   \n",
       "max                12.00            2021.00             754.00   \n",
       "std                 3.47               0.47             184.53   \n",
       "\n",
       "       CODIGO ÚNICO DA PESSOA    IDADE             DATA DE NASCIMENTO  \n",
       "count                16736.00 16736.00                          16736  \n",
       "mean                   756.09    27.96  1992-04-09 13:01:46.692160640  \n",
       "min                      1.00     0.00            1900-01-01 00:00:00  \n",
       "25%                    365.00    14.00            1980-06-30 00:00:00  \n",
       "50%                    727.00    30.00            1990-04-27 00:00:00  \n",
       "75%                   1140.00    40.00            2006-05-05 00:00:00  \n",
       "max                   1847.00    68.00            2021-04-26 00:00:00  \n",
       "std                    455.02    15.94                            NaN  "
      ]
     },
     "execution_count": 27,
     "metadata": {},
     "output_type": "execute_result"
    }
   ],
   "source": [
    "# Describing cadastro_base dataframe\n",
    "cadastro_base.describe()"
   ]
  },
  {
   "cell_type": "markdown",
   "metadata": {},
   "source": [
    "Here, we can see that the `MÊS DE REFERÊNCIA` range from the first (January) to the last month (December), between the `ANO DE REFERÊNCIA` 2020 and 2021. We also have the `CODIGO DA FAMILIA` ranging from 1 to 754, and the `CODIGO ÚNICO DA PESSOA` ranging from 1 to 1847. \n",
    "\n",
    "In terms of `IDADE`, the minimum age ranges from 0 to 68 years. An age of 0 indicates that the beneficiary is a baby who has not yet turned 1 year old. The average age is ~28 years, with a standard deviation (variation) of ~16 years around the mean.\n",
    "\n",
    "Thus, based on this dataset where `CODIGO ÚNICO DA PESSOA` can be duplicated based on the month and year of reference, we can see that 50% of the beneficiaries are up to 30 years old."
   ]
  },
  {
   "cell_type": "code",
   "execution_count": 28,
   "metadata": {},
   "outputs": [
    {
     "data": {
      "image/png": "[encoded data removed]",
      "text/plain": [
       "<Figure size 1400x600 with 1 Axes>"
      ]
     },
     "metadata": {},
     "output_type": "display_data"
    }
   ],
   "source": [
    "# Creating and visualizing ages boxplot\n",
    "sns.boxplot(cadastro_base.IDADE, color='tab:blue', orient='h')\n",
    "plt.xlabel('Ages')\n",
    "plt.title('Ages Boxplot - Beneficiaries');"
   ]
  },
  {
   "cell_type": "code",
   "execution_count": 29,
   "metadata": {},
   "outputs": [
    {
     "data": {
      "image/png": "[encoded data removed]",
      "text/plain": [
       "<Figure size 1400x600 with 1 Axes>"
      ]
     },
     "metadata": {},
     "output_type": "display_data"
    }
   ],
   "source": [
    "# Creating and visualizing ages histogram\n",
    "ages_avg = cadastro_base.IDADE.mean()\n",
    "sns.histplot(cadastro_base.IDADE, bins=14)\n",
    "\n",
    "plt.axvline(ages_avg, c='red', label='Ages AVG {}'.format(round(ages_avg, 0)))\n",
    "plt.ylabel('Beneficiaries Quantity')\n",
    "plt.xlabel('Ages')\n",
    "plt.title('Ages Distribution - Beneficiaries')\n",
    "plt.legend();"
   ]
  },
  {
   "cell_type": "code",
   "execution_count": 30,
   "metadata": {},
   "outputs": [
    {
     "data": {
      "text/html": [
       "<div>\n",
       "<style scoped>\n",
       "    .dataframe tbody tr th:only-of-type {\n",
       "        vertical-align: middle;\n",
       "    }\n",
       "\n",
       "    .dataframe tbody tr th {\n",
       "        vertical-align: top;\n",
       "    }\n",
       "\n",
       "    .dataframe thead th {\n",
       "        text-align: right;\n",
       "    }\n",
       "</style>\n",
       "<table border=\"1\" class=\"dataframe\">\n",
       "  <thead>\n",
       "    <tr style=\"text-align: right;\">\n",
       "      <th></th>\n",
       "      <th>MÊS DE REFERÊNCIA</th>\n",
       "      <th>ANO DE REFERÊNCIA</th>\n",
       "      <th>CODIGO DA FAMILIA</th>\n",
       "      <th>CODIGO ÚNICO DA PESSOA</th>\n",
       "      <th>PLANO</th>\n",
       "      <th>TITULARIDADE</th>\n",
       "      <th>SEXO</th>\n",
       "      <th>IDADE</th>\n",
       "      <th>DATA DE NASCIMENTO</th>\n",
       "      <th>FAIXA ETÁRIA</th>\n",
       "    </tr>\n",
       "  </thead>\n",
       "  <tbody>\n",
       "    <tr>\n",
       "      <th>0</th>\n",
       "      <td>5</td>\n",
       "      <td>2020</td>\n",
       "      <td>314</td>\n",
       "      <td>844</td>\n",
       "      <td>Básico</td>\n",
       "      <td>TITULAR</td>\n",
       "      <td>M</td>\n",
       "      <td>20</td>\n",
       "      <td>2000-02-16</td>\n",
       "      <td>19-23</td>\n",
       "    </tr>\n",
       "    <tr>\n",
       "      <th>1</th>\n",
       "      <td>5</td>\n",
       "      <td>2020</td>\n",
       "      <td>46</td>\n",
       "      <td>71</td>\n",
       "      <td>Básico</td>\n",
       "      <td>TITULAR</td>\n",
       "      <td>M</td>\n",
       "      <td>44</td>\n",
       "      <td>1976-04-21</td>\n",
       "      <td>44-48</td>\n",
       "    </tr>\n",
       "    <tr>\n",
       "      <th>2</th>\n",
       "      <td>5</td>\n",
       "      <td>2020</td>\n",
       "      <td>123</td>\n",
       "      <td>196</td>\n",
       "      <td>Básico</td>\n",
       "      <td>TITULAR</td>\n",
       "      <td>M</td>\n",
       "      <td>55</td>\n",
       "      <td>1964-09-20</td>\n",
       "      <td>54-58</td>\n",
       "    </tr>\n",
       "    <tr>\n",
       "      <th>3</th>\n",
       "      <td>5</td>\n",
       "      <td>2020</td>\n",
       "      <td>114</td>\n",
       "      <td>187</td>\n",
       "      <td>Básico</td>\n",
       "      <td>TITULAR</td>\n",
       "      <td>M</td>\n",
       "      <td>36</td>\n",
       "      <td>1983-07-21</td>\n",
       "      <td>34-38</td>\n",
       "    </tr>\n",
       "    <tr>\n",
       "      <th>4</th>\n",
       "      <td>5</td>\n",
       "      <td>2020</td>\n",
       "      <td>52</td>\n",
       "      <td>87</td>\n",
       "      <td>Básico</td>\n",
       "      <td>TITULAR</td>\n",
       "      <td>M</td>\n",
       "      <td>47</td>\n",
       "      <td>1972-07-15</td>\n",
       "      <td>44-48</td>\n",
       "    </tr>\n",
       "    <tr>\n",
       "      <th>...</th>\n",
       "      <td>...</td>\n",
       "      <td>...</td>\n",
       "      <td>...</td>\n",
       "      <td>...</td>\n",
       "      <td>...</td>\n",
       "      <td>...</td>\n",
       "      <td>...</td>\n",
       "      <td>...</td>\n",
       "      <td>...</td>\n",
       "      <td>...</td>\n",
       "    </tr>\n",
       "    <tr>\n",
       "      <th>16731</th>\n",
       "      <td>4</td>\n",
       "      <td>2021</td>\n",
       "      <td>637</td>\n",
       "      <td>1576</td>\n",
       "      <td>Superior</td>\n",
       "      <td>DEPENDENTE</td>\n",
       "      <td>M</td>\n",
       "      <td>46</td>\n",
       "      <td>1975-02-09</td>\n",
       "      <td>44-48</td>\n",
       "    </tr>\n",
       "    <tr>\n",
       "      <th>16732</th>\n",
       "      <td>4</td>\n",
       "      <td>2021</td>\n",
       "      <td>637</td>\n",
       "      <td>1577</td>\n",
       "      <td>Superior</td>\n",
       "      <td>DEPENDENTE</td>\n",
       "      <td>F</td>\n",
       "      <td>3</td>\n",
       "      <td>2017-04-15</td>\n",
       "      <td>0-18</td>\n",
       "    </tr>\n",
       "    <tr>\n",
       "      <th>16733</th>\n",
       "      <td>4</td>\n",
       "      <td>2021</td>\n",
       "      <td>637</td>\n",
       "      <td>1575</td>\n",
       "      <td>Superior</td>\n",
       "      <td>TITULAR</td>\n",
       "      <td>F</td>\n",
       "      <td>41</td>\n",
       "      <td>1979-10-13</td>\n",
       "      <td>39-43</td>\n",
       "    </tr>\n",
       "    <tr>\n",
       "      <th>16734</th>\n",
       "      <td>4</td>\n",
       "      <td>2021</td>\n",
       "      <td>696</td>\n",
       "      <td>1697</td>\n",
       "      <td>Superior</td>\n",
       "      <td>TITULAR</td>\n",
       "      <td>M</td>\n",
       "      <td>34</td>\n",
       "      <td>1986-10-01</td>\n",
       "      <td>34-38</td>\n",
       "    </tr>\n",
       "    <tr>\n",
       "      <th>16735</th>\n",
       "      <td>4</td>\n",
       "      <td>2021</td>\n",
       "      <td>696</td>\n",
       "      <td>1698</td>\n",
       "      <td>Superior</td>\n",
       "      <td>DEPENDENTE</td>\n",
       "      <td>F</td>\n",
       "      <td>37</td>\n",
       "      <td>1984-01-19</td>\n",
       "      <td>34-38</td>\n",
       "    </tr>\n",
       "  </tbody>\n",
       "</table>\n",
       "<p>16736 rows × 10 columns</p>\n",
       "</div>"
      ],
      "text/plain": [
       "       MÊS DE REFERÊNCIA  ANO DE REFERÊNCIA  CODIGO DA FAMILIA  \\\n",
       "0                      5               2020                314   \n",
       "1                      5               2020                 46   \n",
       "2                      5               2020                123   \n",
       "3                      5               2020                114   \n",
       "4                      5               2020                 52   \n",
       "...                  ...                ...                ...   \n",
       "16731                  4               2021                637   \n",
       "16732                  4               2021                637   \n",
       "16733                  4               2021                637   \n",
       "16734                  4               2021                696   \n",
       "16735                  4               2021                696   \n",
       "\n",
       "       CODIGO ÚNICO DA PESSOA     PLANO TITULARIDADE SEXO  IDADE  \\\n",
       "0                         844    Básico      TITULAR    M     20   \n",
       "1                          71    Básico      TITULAR    M     44   \n",
       "2                         196    Básico      TITULAR    M     55   \n",
       "3                         187    Básico      TITULAR    M     36   \n",
       "4                          87    Básico      TITULAR    M     47   \n",
       "...                       ...       ...          ...  ...    ...   \n",
       "16731                    1576  Superior   DEPENDENTE    M     46   \n",
       "16732                    1577  Superior   DEPENDENTE    F      3   \n",
       "16733                    1575  Superior      TITULAR    F     41   \n",
       "16734                    1697  Superior      TITULAR    M     34   \n",
       "16735                    1698  Superior   DEPENDENTE    F     37   \n",
       "\n",
       "      DATA DE NASCIMENTO FAIXA ETÁRIA  \n",
       "0             2000-02-16        19-23  \n",
       "1             1976-04-21        44-48  \n",
       "2             1964-09-20        54-58  \n",
       "3             1983-07-21        34-38  \n",
       "4             1972-07-15        44-48  \n",
       "...                  ...          ...  \n",
       "16731         1975-02-09        44-48  \n",
       "16732         2017-04-15         0-18  \n",
       "16733         1979-10-13        39-43  \n",
       "16734         1986-10-01        34-38  \n",
       "16735         1984-01-19        34-38  \n",
       "\n",
       "[16736 rows x 10 columns]"
      ]
     },
     "execution_count": 30,
     "metadata": {},
     "output_type": "execute_result"
    }
   ],
   "source": [
    "cadastro_base"
   ]
  },
  {
   "cell_type": "code",
   "execution_count": 31,
   "metadata": {},
   "outputs": [
    {
     "data": {
      "text/plain": [
       "Index(['MÊS DE REFERÊNCIA', 'ANO DE REFERÊNCIA', 'CODIGO DA FAMILIA',\n",
       "       'CODIGO ÚNICO DA PESSOA', 'PLANO', 'TITULARIDADE', 'SEXO', 'IDADE',\n",
       "       'DATA DE NASCIMENTO', 'FAIXA ETÁRIA'],\n",
       "      dtype='object')"
      ]
     },
     "execution_count": 31,
     "metadata": {},
     "output_type": "execute_result"
    }
   ],
   "source": [
    "cadastro_base.columns"
   ]
  },
  {
   "cell_type": "code",
   "execution_count": 32,
   "metadata": {},
   "outputs": [
    {
     "data": {
      "text/plain": [
       "SEXO\n",
       "F    787\n",
       "M    892\n",
       "Name: CODIGO ÚNICO DA PESSOA, dtype: int64"
      ]
     },
     "execution_count": 32,
     "metadata": {},
     "output_type": "execute_result"
    }
   ],
   "source": [
    "# Visualizing the total number of unique beneficiaries by gender\n",
    "cadastro_base.groupby('SEXO')['CODIGO ÚNICO DA PESSOA'].nunique()"
   ]
  },
  {
   "cell_type": "code",
   "execution_count": 33,
   "metadata": {},
   "outputs": [
    {
     "data": {
      "text/plain": [
       "SEXO\n",
       "F   46.87\n",
       "M   53.13\n",
       "Name: CODIGO ÚNICO DA PESSOA, dtype: float64"
      ]
     },
     "execution_count": 33,
     "metadata": {},
     "output_type": "execute_result"
    }
   ],
   "source": [
    "# Visualizing the percentual of total by gender\n",
    "percentage_by_gender = (cadastro_base.groupby('SEXO')['CODIGO ÚNICO DA PESSOA'].nunique() / cadastro_base['CODIGO ÚNICO DA PESSOA'].nunique()) * 100\n",
    "percentage_by_gender"
   ]
  },
  {
   "cell_type": "code",
   "execution_count": 34,
   "metadata": {},
   "outputs": [
    {
     "data": {
      "image/png": "[encoded data removed]",
      "text/plain": [
       "<Figure size 1400x600 with 1 Axes>"
      ]
     },
     "metadata": {},
     "output_type": "display_data"
    }
   ],
   "source": [
    "# Creating and visualizing gender distribution\n",
    "_, ax = plt.subplots()\n",
    "\n",
    "patches, texts, autotexts = ax.pie(\n",
    "    percentage_by_gender, \n",
    "    colors = ['#5752D1', '#EC7A08'], \n",
    "    labels=['Feminino', 'Masculino'], \n",
    "    autopct='%1.1f%%', \n",
    "    startangle=90\n",
    ")\n",
    "for text in texts:\n",
    "    text.set_color('black')\n",
    "for autotext in autotexts:\n",
    "    autotext.set_color('white')\n",
    "    \n",
    "plt.title('Gender Percentual - Beneficiaries');"
   ]
  },
  {
   "cell_type": "markdown",
   "metadata": {},
   "source": [
    "We have more male individuals in the dataset, representing 53% of the total, while the female population represents 47% of the dataset, looking at the column CODIGO `ÚNICO DA PESSOA` distinctly."
   ]
  },
  {
   "cell_type": "code",
   "execution_count": 35,
   "metadata": {},
   "outputs": [
    {
     "data": {
      "text/plain": [
       "Series([], Name: PLANO, dtype: int64)"
      ]
     },
     "execution_count": 35,
     "metadata": {},
     "output_type": "execute_result"
    }
   ],
   "source": [
    "# Visualizing clients with more than 1 plan\n",
    "multiple_plans = cadastro_base.groupby('CODIGO ÚNICO DA PESSOA')['PLANO'].nunique().loc[lambda x: x > 1].sort_values(ascending=False)\n",
    "multiple_plans"
   ]
  },
  {
   "cell_type": "markdown",
   "metadata": {},
   "source": [
    "There are no beneficiaries with more than one plan over time. In other words, all beneficiaries have only one plan."
   ]
  },
  {
   "cell_type": "code",
   "execution_count": 36,
   "metadata": {},
   "outputs": [
    {
     "data": {
      "text/plain": [
       "PLANO\n",
       "Básico      1163\n",
       "Médio        392\n",
       "Superior     124\n",
       "Name: CODIGO ÚNICO DA PESSOA, dtype: int64"
      ]
     },
     "execution_count": 36,
     "metadata": {},
     "output_type": "execute_result"
    }
   ],
   "source": [
    "# Visualizing the total number of unique beneficiaries by plan\n",
    "cadastro_base.groupby('PLANO')['CODIGO ÚNICO DA PESSOA'].nunique()"
   ]
  },
  {
   "cell_type": "code",
   "execution_count": 37,
   "metadata": {},
   "outputs": [
    {
     "data": {
      "image/png": "[encoded data removed]",
      "text/plain": [
       "<Figure size 1400x600 with 1 Axes>"
      ]
     },
     "metadata": {},
     "output_type": "display_data"
    }
   ],
   "source": [
    "sns.barplot(x=cadastro_base.groupby('PLANO')['CODIGO ÚNICO DA PESSOA'].nunique().index, \n",
    "            y=cadastro_base.groupby('PLANO')['CODIGO ÚNICO DA PESSOA'].nunique().values, \n",
    "            color='tab:blue')\n",
    "plt.xlabel('Plan')\n",
    "plt.ylabel('Beneficiaries Quantity')\n",
    "plt.title('Plan Distribution - Beneficiaries');"
   ]
  },
  {
   "cell_type": "markdown",
   "metadata": {},
   "source": [
    "69% of unique beneficiaries have the 'Básico' `PLANO`, representing 69% of the total. On the other hand, only 7% of the plans are 'Superior', which is just over 9 times smaller than the total number of 'Básico' plans. This indicates a significant concentration of lower-value plans in this company."
   ]
  },
  {
   "cell_type": "code",
   "execution_count": 38,
   "metadata": {},
   "outputs": [
    {
     "data": {
      "text/plain": [
       "TITULARIDADE\n",
       "DEPENDENTE    992\n",
       "TITULAR       687\n",
       "Name: CODIGO ÚNICO DA PESSOA, dtype: int64"
      ]
     },
     "execution_count": 38,
     "metadata": {},
     "output_type": "execute_result"
    }
   ],
   "source": [
    "# Visualizing the total number of unique beneficiaries by titularity\n",
    "cadastro_base.groupby('TITULARIDADE')['CODIGO ÚNICO DA PESSOA'].nunique()"
   ]
  },
  {
   "cell_type": "code",
   "execution_count": 39,
   "metadata": {},
   "outputs": [
    {
     "data": {
      "text/plain": [
       "TITULARIDADE\n",
       "DEPENDENTE   59.08\n",
       "TITULAR      40.92\n",
       "Name: CODIGO ÚNICO DA PESSOA, dtype: float64"
      ]
     },
     "execution_count": 39,
     "metadata": {},
     "output_type": "execute_result"
    }
   ],
   "source": [
    "# Visualizing the percentual of total by titularity\n",
    "percentage_by_titularity = (cadastro_base.groupby('TITULARIDADE')['CODIGO ÚNICO DA PESSOA'].nunique() / cadastro_base['CODIGO ÚNICO DA PESSOA'].nunique()) * 100\n",
    "percentage_by_titularity"
   ]
  },
  {
   "cell_type": "code",
   "execution_count": 40,
   "metadata": {},
   "outputs": [
    {
     "data": {
      "image/png": "[encoded data removed]",
      "text/plain": [
       "<Figure size 1400x600 with 1 Axes>"
      ]
     },
     "metadata": {},
     "output_type": "display_data"
    }
   ],
   "source": [
    "# Creating and visualizing titularity distribution\n",
    "_, ax = plt.subplots()\n",
    "\n",
    "patches, texts, autotexts = ax.pie(\n",
    "    percentage_by_titularity, \n",
    "    colors = ['#002F5D', '#009596'], \n",
    "    labels=['Dependente', 'Titular'], \n",
    "    autopct='%1.1f%%', \n",
    "    startangle=90\n",
    ")\n",
    "for text in texts:\n",
    "    text.set_color('black')\n",
    "for autotext in autotexts:\n",
    "    autotext.set_color('white')\n",
    "    \n",
    "plt.title('Titularity Percentual - Beneficiaries');"
   ]
  },
  {
   "cell_type": "markdown",
   "metadata": {},
   "source": [
    "The majority of beneficiaries are dependents, representing 59% of the total when we look at the `TITULARIDADE` column. This indicates that, overall, a policyholder brings at least one dependent, but there are many cases where this number is even higher, as the policyholder can add their spouse and also a child, for example."
   ]
  },
  {
   "cell_type": "code",
   "execution_count": 41,
   "metadata": {},
   "outputs": [
    {
     "name": "stdout",
     "output_type": "stream",
     "text": [
      "CODIGO ÚNICO DA PESSOA\n",
      "1388    2\n",
      "Name: DATA DE NASCIMENTO, dtype: int64\n"
     ]
    }
   ],
   "source": [
    "# Grouping by 'CODIGO ÚNICO DA PESSOA' and counting unique 'DATA DE NASCIMENTO'\n",
    "duplicates = cadastro_base.groupby('CODIGO ÚNICO DA PESSOA')['DATA DE NASCIMENTO'].nunique()\n",
    "\n",
    "# Filtering for duplicates\n",
    "duplicates = duplicates[duplicates > 1]\n",
    "\n",
    "# Displaying the results\n",
    "print(duplicates)\n"
   ]
  },
  {
   "cell_type": "code",
   "execution_count": 42,
   "metadata": {},
   "outputs": [
    {
     "data": {
      "text/plain": [
       "CODIGO ÚNICO DA PESSOA\n",
       "1388    2\n",
       "Name: DATA DE NASCIMENTO, dtype: int64"
      ]
     },
     "execution_count": 42,
     "metadata": {},
     "output_type": "execute_result"
    }
   ],
   "source": [
    "# Visualizing clients with more than date of birth\n",
    "multiple_bithdate = cadastro_base.groupby('CODIGO ÚNICO DA PESSOA')['DATA DE NASCIMENTO'].nunique().loc[lambda x: x > 1].sort_values(ascending=False)\n",
    "multiple_bithdate"
   ]
  },
  {
   "cell_type": "markdown",
   "metadata": {},
   "source": [
    "### sinistros_base"
   ]
  },
  {
   "cell_type": "code",
   "execution_count": 43,
   "metadata": {},
   "outputs": [
    {
     "data": {
      "text/plain": [
       "(48965, 12)"
      ]
     },
     "execution_count": 43,
     "metadata": {},
     "output_type": "execute_result"
    }
   ],
   "source": [
    "# Dimensions of database\n",
    "sinistros_base.shape"
   ]
  },
  {
   "cell_type": "code",
   "execution_count": 45,
   "metadata": {},
   "outputs": [
    {
     "data": {
      "text/html": [
       "<div>\n",
       "<style scoped>\n",
       "    .dataframe tbody tr th:only-of-type {\n",
       "        vertical-align: middle;\n",
       "    }\n",
       "\n",
       "    .dataframe tbody tr th {\n",
       "        vertical-align: top;\n",
       "    }\n",
       "\n",
       "    .dataframe thead th {\n",
       "        text-align: right;\n",
       "    }\n",
       "</style>\n",
       "<table border=\"1\" class=\"dataframe\">\n",
       "  <thead>\n",
       "    <tr style=\"text-align: right;\">\n",
       "      <th></th>\n",
       "      <th>DATA DE REFERENCIA</th>\n",
       "      <th>CODIGO DO EVENTO</th>\n",
       "      <th>FONTE</th>\n",
       "      <th>PLANO</th>\n",
       "      <th>TITULARIDADE</th>\n",
       "      <th>CODIGO DA FAMILIA</th>\n",
       "      <th>CODIGO ÚNICO DA PESSOA</th>\n",
       "      <th>DATA DO EVENTO</th>\n",
       "      <th>PRESTADOR</th>\n",
       "      <th>VALOR DO EVENTO</th>\n",
       "      <th>DESCRITOR DO EVENTO</th>\n",
       "      <th>INTERNACAO?</th>\n",
       "    </tr>\n",
       "  </thead>\n",
       "  <tbody>\n",
       "    <tr>\n",
       "      <th>0</th>\n",
       "      <td>2020-01-05</td>\n",
       "      <td>10101012</td>\n",
       "      <td>REDE</td>\n",
       "      <td>Básico</td>\n",
       "      <td>DEPENDENTE</td>\n",
       "      <td>184</td>\n",
       "      <td>418</td>\n",
       "      <td>2020-03-13</td>\n",
       "      <td>256</td>\n",
       "      <td>64.02</td>\n",
       "      <td>CONSULTA MEDICA EM CONSULTORIO</td>\n",
       "      <td>Não</td>\n",
       "    </tr>\n",
       "    <tr>\n",
       "      <th>1</th>\n",
       "      <td>2020-01-05</td>\n",
       "      <td>10101012</td>\n",
       "      <td>REDE</td>\n",
       "      <td>Básico</td>\n",
       "      <td>DEPENDENTE</td>\n",
       "      <td>198</td>\n",
       "      <td>421</td>\n",
       "      <td>2020-03-17</td>\n",
       "      <td>256</td>\n",
       "      <td>65.20</td>\n",
       "      <td>CONSULTA MEDICA EM CONSULTORIO</td>\n",
       "      <td>Não</td>\n",
       "    </tr>\n",
       "    <tr>\n",
       "      <th>2</th>\n",
       "      <td>2020-01-05</td>\n",
       "      <td>10101012</td>\n",
       "      <td>REDE</td>\n",
       "      <td>Básico</td>\n",
       "      <td>TITULAR</td>\n",
       "      <td>199</td>\n",
       "      <td>502</td>\n",
       "      <td>2020-03-13</td>\n",
       "      <td>256</td>\n",
       "      <td>65.20</td>\n",
       "      <td>CONSULTA MEDICA EM CONSULTORIO</td>\n",
       "      <td>Não</td>\n",
       "    </tr>\n",
       "    <tr>\n",
       "      <th>3</th>\n",
       "      <td>2020-01-05</td>\n",
       "      <td>10101012</td>\n",
       "      <td>REDE</td>\n",
       "      <td>Básico</td>\n",
       "      <td>TITULAR</td>\n",
       "      <td>199</td>\n",
       "      <td>502</td>\n",
       "      <td>2020-03-18</td>\n",
       "      <td>256</td>\n",
       "      <td>65.20</td>\n",
       "      <td>CONSULTA MEDICA EM CONSULTORIO</td>\n",
       "      <td>Não</td>\n",
       "    </tr>\n",
       "    <tr>\n",
       "      <th>4</th>\n",
       "      <td>2020-01-05</td>\n",
       "      <td>10101012</td>\n",
       "      <td>REDE</td>\n",
       "      <td>Básico</td>\n",
       "      <td>TITULAR</td>\n",
       "      <td>199</td>\n",
       "      <td>502</td>\n",
       "      <td>2020-08-04</td>\n",
       "      <td>1332</td>\n",
       "      <td>103.00</td>\n",
       "      <td>CONSULTA MEDICA EM CONSULTORIO</td>\n",
       "      <td>Não</td>\n",
       "    </tr>\n",
       "  </tbody>\n",
       "</table>\n",
       "</div>"
      ],
      "text/plain": [
       "  DATA DE REFERENCIA  CODIGO DO EVENTO FONTE   PLANO TITULARIDADE  \\\n",
       "0         2020-01-05          10101012  REDE  Básico   DEPENDENTE   \n",
       "1         2020-01-05          10101012  REDE  Básico   DEPENDENTE   \n",
       "2         2020-01-05          10101012  REDE  Básico      TITULAR   \n",
       "3         2020-01-05          10101012  REDE  Básico      TITULAR   \n",
       "4         2020-01-05          10101012  REDE  Básico      TITULAR   \n",
       "\n",
       "   CODIGO DA FAMILIA  CODIGO ÚNICO DA PESSOA DATA DO EVENTO  PRESTADOR  \\\n",
       "0                184                     418     2020-03-13        256   \n",
       "1                198                     421     2020-03-17        256   \n",
       "2                199                     502     2020-03-13        256   \n",
       "3                199                     502     2020-03-18        256   \n",
       "4                199                     502     2020-08-04       1332   \n",
       "\n",
       "   VALOR DO EVENTO             DESCRITOR DO EVENTO INTERNACAO?  \n",
       "0            64.02  CONSULTA MEDICA EM CONSULTORIO         Não  \n",
       "1            65.20  CONSULTA MEDICA EM CONSULTORIO         Não  \n",
       "2            65.20  CONSULTA MEDICA EM CONSULTORIO         Não  \n",
       "3            65.20  CONSULTA MEDICA EM CONSULTORIO         Não  \n",
       "4           103.00  CONSULTA MEDICA EM CONSULTORIO         Não  "
      ]
     },
     "execution_count": 45,
     "metadata": {},
     "output_type": "execute_result"
    }
   ],
   "source": [
    "# Looking to dataframe\n",
    "sinistros_base.head()"
   ]
  },
  {
   "cell_type": "code",
   "execution_count": 46,
   "metadata": {},
   "outputs": [
    {
     "data": {
      "text/plain": [
       "Index(['DATA DE REFERENCIA', 'CODIGO DO EVENTO', 'FONTE', 'PLANO',\n",
       "       'TITULARIDADE', 'CODIGO DA FAMILIA', 'CODIGO ÚNICO DA PESSOA',\n",
       "       'DATA DO EVENTO', 'PRESTADOR', 'VALOR DO EVENTO', 'DESCRITOR DO EVENTO',\n",
       "       'INTERNACAO?'],\n",
       "      dtype='object')"
      ]
     },
     "execution_count": 46,
     "metadata": {},
     "output_type": "execute_result"
    }
   ],
   "source": [
    "sinistros_base.columns"
   ]
  },
  {
   "cell_type": "code",
   "execution_count": 47,
   "metadata": {},
   "outputs": [
    {
     "data": {
      "text/html": [
       "<div>\n",
       "<style scoped>\n",
       "    .dataframe tbody tr th:only-of-type {\n",
       "        vertical-align: middle;\n",
       "    }\n",
       "\n",
       "    .dataframe tbody tr th {\n",
       "        vertical-align: top;\n",
       "    }\n",
       "\n",
       "    .dataframe thead th {\n",
       "        text-align: right;\n",
       "    }\n",
       "</style>\n",
       "<table border=\"1\" class=\"dataframe\">\n",
       "  <thead>\n",
       "    <tr style=\"text-align: right;\">\n",
       "      <th></th>\n",
       "      <th>CODIGO DO EVENTO</th>\n",
       "      <th>FONTE</th>\n",
       "      <th>PLANO</th>\n",
       "      <th>TITULARIDADE</th>\n",
       "      <th>CODIGO DA FAMILIA</th>\n",
       "      <th>CODIGO ÚNICO DA PESSOA</th>\n",
       "      <th>DATA DO EVENTO</th>\n",
       "      <th>PRESTADOR</th>\n",
       "      <th>VALOR DO EVENTO</th>\n",
       "      <th>DESCRITOR DO EVENTO</th>\n",
       "      <th>INTERNACAO?</th>\n",
       "      <th>DATA DE REFERENCIA</th>\n",
       "    </tr>\n",
       "  </thead>\n",
       "  <tbody>\n",
       "    <tr>\n",
       "      <th>1450</th>\n",
       "      <td>10101012</td>\n",
       "      <td>REDE</td>\n",
       "      <td>Básico</td>\n",
       "      <td>DEPENDENTE</td>\n",
       "      <td>246</td>\n",
       "      <td>645</td>\n",
       "      <td>2021-01-22</td>\n",
       "      <td>425</td>\n",
       "      <td>90.80</td>\n",
       "      <td>CONSULTA MEDICA EM CONSULTORIO</td>\n",
       "      <td>Não</td>\n",
       "      <td>2</td>\n",
       "    </tr>\n",
       "    <tr>\n",
       "      <th>3456</th>\n",
       "      <td>10101012</td>\n",
       "      <td>REEMBOLSO</td>\n",
       "      <td>Médio</td>\n",
       "      <td>TITULAR</td>\n",
       "      <td>381</td>\n",
       "      <td>1001</td>\n",
       "      <td>2020-04-14</td>\n",
       "      <td>408</td>\n",
       "      <td>107.10</td>\n",
       "      <td>CONSULTA MEDICA EM CONSULTORIO</td>\n",
       "      <td>Não</td>\n",
       "      <td>2</td>\n",
       "    </tr>\n",
       "    <tr>\n",
       "      <th>3458</th>\n",
       "      <td>10101012</td>\n",
       "      <td>REEMBOLSO</td>\n",
       "      <td>Médio</td>\n",
       "      <td>TITULAR</td>\n",
       "      <td>381</td>\n",
       "      <td>1001</td>\n",
       "      <td>2020-05-14</td>\n",
       "      <td>408</td>\n",
       "      <td>107.10</td>\n",
       "      <td>CONSULTA MEDICA EM CONSULTORIO</td>\n",
       "      <td>Não</td>\n",
       "      <td>2</td>\n",
       "    </tr>\n",
       "    <tr>\n",
       "      <th>7067</th>\n",
       "      <td>30101280</td>\n",
       "      <td>REDE</td>\n",
       "      <td>Médio</td>\n",
       "      <td>TITULAR</td>\n",
       "      <td>358</td>\n",
       "      <td>1081</td>\n",
       "      <td>2020-12-03</td>\n",
       "      <td>403</td>\n",
       "      <td>162.80</td>\n",
       "      <td>DESBRIDAMENTO CIRURG- POR UNIDADE TOPOGRAFICA ...</td>\n",
       "      <td>Sim</td>\n",
       "      <td>2</td>\n",
       "    </tr>\n",
       "    <tr>\n",
       "      <th>7119</th>\n",
       "      <td>30101611</td>\n",
       "      <td>REDE</td>\n",
       "      <td>Médio</td>\n",
       "      <td>TITULAR</td>\n",
       "      <td>358</td>\n",
       "      <td>1081</td>\n",
       "      <td>2020-12-03</td>\n",
       "      <td>403</td>\n",
       "      <td>264.78</td>\n",
       "      <td>INCISAO E DRENAGEM DE TENOSSINOVITES PURULENTAS</td>\n",
       "      <td>Sim</td>\n",
       "      <td>2</td>\n",
       "    </tr>\n",
       "  </tbody>\n",
       "</table>\n",
       "</div>"
      ],
      "text/plain": [
       "      CODIGO DO EVENTO      FONTE   PLANO TITULARIDADE  CODIGO DA FAMILIA  \\\n",
       "1450          10101012       REDE  Básico   DEPENDENTE                246   \n",
       "3456          10101012  REEMBOLSO   Médio      TITULAR                381   \n",
       "3458          10101012  REEMBOLSO   Médio      TITULAR                381   \n",
       "7067          30101280       REDE   Médio      TITULAR                358   \n",
       "7119          30101611       REDE   Médio      TITULAR                358   \n",
       "\n",
       "      CODIGO ÚNICO DA PESSOA DATA DO EVENTO  PRESTADOR  VALOR DO EVENTO  \\\n",
       "1450                     645     2021-01-22        425            90.80   \n",
       "3456                    1001     2020-04-14        408           107.10   \n",
       "3458                    1001     2020-05-14        408           107.10   \n",
       "7067                    1081     2020-12-03        403           162.80   \n",
       "7119                    1081     2020-12-03        403           264.78   \n",
       "\n",
       "                                    DESCRITOR DO EVENTO INTERNACAO?  \\\n",
       "1450                     CONSULTA MEDICA EM CONSULTORIO         Não   \n",
       "3456                     CONSULTA MEDICA EM CONSULTORIO         Não   \n",
       "3458                     CONSULTA MEDICA EM CONSULTORIO         Não   \n",
       "7067  DESBRIDAMENTO CIRURG- POR UNIDADE TOPOGRAFICA ...         Sim   \n",
       "7119    INCISAO E DRENAGEM DE TENOSSINOVITES PURULENTAS         Sim   \n",
       "\n",
       "      DATA DE REFERENCIA  \n",
       "1450                   2  \n",
       "3456                   2  \n",
       "3458                   2  \n",
       "7067                   2  \n",
       "7119                   2  "
      ]
     },
     "execution_count": 47,
     "metadata": {},
     "output_type": "execute_result"
    }
   ],
   "source": [
    "# Setting unique key of dataframe\n",
    "unique_key = ['CODIGO DO EVENTO','FONTE','PLANO','TITULARIDADE','CODIGO DA FAMILIA','CODIGO ÚNICO DA PESSOA',\n",
    "              'DATA DO EVENTO','PRESTADOR','VALOR DO EVENTO','DESCRITOR DO EVENTO','INTERNACAO?']\n",
    "\n",
    "# Checking duplicates \n",
    "duplicates = sinistros_base.groupby(unique_key).agg({'DATA DE REFERENCIA': 'nunique'}).reset_index()\n",
    "\n",
    "# filtering duplicates\n",
    "duplicates = duplicates[duplicates['DATA DE REFERENCIA'] > 1]\n",
    "duplicates.head()"
   ]
  },
  {
   "cell_type": "markdown",
   "metadata": {},
   "source": [
    "As we observed in the ``cadastro_base`` dataset, ``sinistros_base`` also contains duplicated records with different reference dates. In this case, a unique key for an event is understood as the combination of the 'CODIGO DO EVENTO','FONTE','PLANO','TITULARIDADE','CODIGO DA FAMILIA','CODIGO ÚNICO DA PESSOA','DATA DO EVENTO','PRESTADOR','VALOR DO EVENTO','DESCRITOR DO EVENTO', and 'INTERNACAO?' columns.\n",
    "\n",
    "Therefore, out of the original 48965 records, there are **4170 duplicates**. Thus, similar to the previous dataset, it is worthwhile to handle the records to ensure a unique outcome for each event, avoiding incorrect conclusions about the numbers."
   ]
  },
  {
   "cell_type": "code",
   "execution_count": 48,
   "metadata": {},
   "outputs": [],
   "source": [
    "# Getting the index of the last record for each unique key\n",
    "last_index = sinistros_base.groupby(unique_key)['DATA DE REFERENCIA'].idxmax()\n",
    "\n",
    "# Selecting the records corresponding to the indices\n",
    "claims = sinistros_base.loc[last_index].reset_index(drop=True)"
   ]
  },
  {
   "cell_type": "code",
   "execution_count": 49,
   "metadata": {},
   "outputs": [
    {
     "data": {
      "text/plain": [
       "(44795, 12)"
      ]
     },
     "execution_count": 49,
     "metadata": {},
     "output_type": "execute_result"
    }
   ],
   "source": [
    "claims.shape"
   ]
  },
  {
   "cell_type": "code",
   "execution_count": 64,
   "metadata": {},
   "outputs": [
    {
     "data": {
      "text/plain": [
       "Index(['DATA DE REFERENCIA', 'CODIGO DO EVENTO', 'FONTE', 'PLANO',\n",
       "       'TITULARIDADE', 'CODIGO DA FAMILIA', 'CODIGO ÚNICO DA PESSOA',\n",
       "       'DATA DO EVENTO', 'PRESTADOR', 'VALOR DO EVENTO', 'DESCRITOR DO EVENTO',\n",
       "       'INTERNACAO?'],\n",
       "      dtype='object')"
      ]
     },
     "execution_count": 64,
     "metadata": {},
     "output_type": "execute_result"
    }
   ],
   "source": [
    "claims.columns"
   ]
  },
  {
   "cell_type": "code",
   "execution_count": 52,
   "metadata": {},
   "outputs": [
    {
     "data": {
      "text/html": [
       "<div>\n",
       "<style scoped>\n",
       "    .dataframe tbody tr th:only-of-type {\n",
       "        vertical-align: middle;\n",
       "    }\n",
       "\n",
       "    .dataframe tbody tr th {\n",
       "        vertical-align: top;\n",
       "    }\n",
       "\n",
       "    .dataframe thead th {\n",
       "        text-align: right;\n",
       "    }\n",
       "</style>\n",
       "<table border=\"1\" class=\"dataframe\">\n",
       "  <thead>\n",
       "    <tr style=\"text-align: right;\">\n",
       "      <th></th>\n",
       "      <th>DATA DE REFERENCIA</th>\n",
       "      <th>CODIGO DO EVENTO</th>\n",
       "      <th>FONTE</th>\n",
       "      <th>PLANO</th>\n",
       "      <th>TITULARIDADE</th>\n",
       "      <th>CODIGO DA FAMILIA</th>\n",
       "      <th>CODIGO ÚNICO DA PESSOA</th>\n",
       "      <th>DATA DO EVENTO</th>\n",
       "      <th>PRESTADOR</th>\n",
       "      <th>VALOR DO EVENTO</th>\n",
       "      <th>DESCRITOR DO EVENTO</th>\n",
       "      <th>INTERNACAO?</th>\n",
       "    </tr>\n",
       "  </thead>\n",
       "  <tbody>\n",
       "    <tr>\n",
       "      <th>0</th>\n",
       "      <td>2020-01-08</td>\n",
       "      <td>10022</td>\n",
       "      <td>REDE</td>\n",
       "      <td>Médio</td>\n",
       "      <td>DEPENDENTE</td>\n",
       "      <td>409</td>\n",
       "      <td>1131</td>\n",
       "      <td>2019-10-07</td>\n",
       "      <td>762</td>\n",
       "      <td>8.82</td>\n",
       "      <td>CONSULTA MEDICA HOSP (INTERCONSULTA ENTRE ESPE...</td>\n",
       "      <td>Sim</td>\n",
       "    </tr>\n",
       "    <tr>\n",
       "      <th>1</th>\n",
       "      <td>2020-01-08</td>\n",
       "      <td>10022</td>\n",
       "      <td>REDE</td>\n",
       "      <td>Médio</td>\n",
       "      <td>DEPENDENTE</td>\n",
       "      <td>409</td>\n",
       "      <td>1131</td>\n",
       "      <td>2019-11-07</td>\n",
       "      <td>762</td>\n",
       "      <td>8.82</td>\n",
       "      <td>CONSULTA MEDICA HOSP (INTERCONSULTA ENTRE ESPE...</td>\n",
       "      <td>Sim</td>\n",
       "    </tr>\n",
       "    <tr>\n",
       "      <th>2</th>\n",
       "      <td>2020-01-08</td>\n",
       "      <td>10022</td>\n",
       "      <td>REDE</td>\n",
       "      <td>Médio</td>\n",
       "      <td>DEPENDENTE</td>\n",
       "      <td>409</td>\n",
       "      <td>1131</td>\n",
       "      <td>2019-12-07</td>\n",
       "      <td>762</td>\n",
       "      <td>8.82</td>\n",
       "      <td>CONSULTA MEDICA HOSP (INTERCONSULTA ENTRE ESPE...</td>\n",
       "      <td>Sim</td>\n",
       "    </tr>\n",
       "    <tr>\n",
       "      <th>3</th>\n",
       "      <td>2021-01-04</td>\n",
       "      <td>10189</td>\n",
       "      <td>REDE</td>\n",
       "      <td>Básico</td>\n",
       "      <td>TITULAR</td>\n",
       "      <td>10</td>\n",
       "      <td>272</td>\n",
       "      <td>2020-12-29</td>\n",
       "      <td>1208</td>\n",
       "      <td>96.26</td>\n",
       "      <td>VISITA DE ENFERMAGEM DOMICILIAR</td>\n",
       "      <td>Sim</td>\n",
       "    </tr>\n",
       "    <tr>\n",
       "      <th>4</th>\n",
       "      <td>2020-01-10</td>\n",
       "      <td>100102</td>\n",
       "      <td>REDE</td>\n",
       "      <td>Básico</td>\n",
       "      <td>DEPENDENTE</td>\n",
       "      <td>18</td>\n",
       "      <td>660</td>\n",
       "      <td>2020-08-19</td>\n",
       "      <td>784</td>\n",
       "      <td>95.02</td>\n",
       "      <td>ATENDIMENTO/CONSULTA DE EMERGENCIA PEDIATRICO</td>\n",
       "      <td>Não</td>\n",
       "    </tr>\n",
       "    <tr>\n",
       "      <th>...</th>\n",
       "      <td>...</td>\n",
       "      <td>...</td>\n",
       "      <td>...</td>\n",
       "      <td>...</td>\n",
       "      <td>...</td>\n",
       "      <td>...</td>\n",
       "      <td>...</td>\n",
       "      <td>...</td>\n",
       "      <td>...</td>\n",
       "      <td>...</td>\n",
       "      <td>...</td>\n",
       "      <td>...</td>\n",
       "    </tr>\n",
       "    <tr>\n",
       "      <th>44790</th>\n",
       "      <td>2021-01-03</td>\n",
       "      <td>96008369</td>\n",
       "      <td>REDE</td>\n",
       "      <td>Básico</td>\n",
       "      <td>DEPENDENTE</td>\n",
       "      <td>294</td>\n",
       "      <td>794</td>\n",
       "      <td>2019-01-15</td>\n",
       "      <td>1023</td>\n",
       "      <td>221.56</td>\n",
       "      <td>SIH 303140070 TRAT DOENCA DO OUVIDO EXT MED MA...</td>\n",
       "      <td>Não</td>\n",
       "    </tr>\n",
       "    <tr>\n",
       "      <th>44791</th>\n",
       "      <td>2020-01-11</td>\n",
       "      <td>96012145</td>\n",
       "      <td>REDE</td>\n",
       "      <td>Básico</td>\n",
       "      <td>TITULAR</td>\n",
       "      <td>82</td>\n",
       "      <td>126</td>\n",
       "      <td>2018-10-21</td>\n",
       "      <td>1023</td>\n",
       "      <td>1309.50</td>\n",
       "      <td>SIH SUS 603050018 ABCIXIMABE</td>\n",
       "      <td>Sim</td>\n",
       "    </tr>\n",
       "    <tr>\n",
       "      <th>44792</th>\n",
       "      <td>2021-01-03</td>\n",
       "      <td>96015012</td>\n",
       "      <td>REDE</td>\n",
       "      <td>Básico</td>\n",
       "      <td>DEPENDENTE</td>\n",
       "      <td>38</td>\n",
       "      <td>203</td>\n",
       "      <td>2019-03-25</td>\n",
       "      <td>1023</td>\n",
       "      <td>1368.00</td>\n",
       "      <td>SIH SUS 303170140 TTO CL CONT COMP DES E OU DI...</td>\n",
       "      <td>Não</td>\n",
       "    </tr>\n",
       "    <tr>\n",
       "      <th>44793</th>\n",
       "      <td>2021-01-03</td>\n",
       "      <td>96016914</td>\n",
       "      <td>REDE</td>\n",
       "      <td>Básico</td>\n",
       "      <td>TITULAR</td>\n",
       "      <td>658</td>\n",
       "      <td>1624</td>\n",
       "      <td>2019-03-25</td>\n",
       "      <td>1023</td>\n",
       "      <td>23.62</td>\n",
       "      <td>SIH SUS 301110018 ACOMP PACI MEDIO GRANDE QUEI...</td>\n",
       "      <td>Não</td>\n",
       "    </tr>\n",
       "    <tr>\n",
       "      <th>44794</th>\n",
       "      <td>2021-01-03</td>\n",
       "      <td>96017660</td>\n",
       "      <td>REDE</td>\n",
       "      <td>Básico</td>\n",
       "      <td>TITULAR</td>\n",
       "      <td>658</td>\n",
       "      <td>1624</td>\n",
       "      <td>2019-03-25</td>\n",
       "      <td>1023</td>\n",
       "      <td>93.74</td>\n",
       "      <td>SIH SUS 413010040 CURATIVO EM MEDIO QUEIMADO</td>\n",
       "      <td>Não</td>\n",
       "    </tr>\n",
       "  </tbody>\n",
       "</table>\n",
       "<p>44795 rows × 12 columns</p>\n",
       "</div>"
      ],
      "text/plain": [
       "      DATA DE REFERENCIA  CODIGO DO EVENTO FONTE   PLANO TITULARIDADE  \\\n",
       "0             2020-01-08             10022  REDE   Médio   DEPENDENTE   \n",
       "1             2020-01-08             10022  REDE   Médio   DEPENDENTE   \n",
       "2             2020-01-08             10022  REDE   Médio   DEPENDENTE   \n",
       "3             2021-01-04             10189  REDE  Básico      TITULAR   \n",
       "4             2020-01-10            100102  REDE  Básico   DEPENDENTE   \n",
       "...                  ...               ...   ...     ...          ...   \n",
       "44790         2021-01-03          96008369  REDE  Básico   DEPENDENTE   \n",
       "44791         2020-01-11          96012145  REDE  Básico      TITULAR   \n",
       "44792         2021-01-03          96015012  REDE  Básico   DEPENDENTE   \n",
       "44793         2021-01-03          96016914  REDE  Básico      TITULAR   \n",
       "44794         2021-01-03          96017660  REDE  Básico      TITULAR   \n",
       "\n",
       "       CODIGO DA FAMILIA  CODIGO ÚNICO DA PESSOA DATA DO EVENTO  PRESTADOR  \\\n",
       "0                    409                    1131     2019-10-07        762   \n",
       "1                    409                    1131     2019-11-07        762   \n",
       "2                    409                    1131     2019-12-07        762   \n",
       "3                     10                     272     2020-12-29       1208   \n",
       "4                     18                     660     2020-08-19        784   \n",
       "...                  ...                     ...            ...        ...   \n",
       "44790                294                     794     2019-01-15       1023   \n",
       "44791                 82                     126     2018-10-21       1023   \n",
       "44792                 38                     203     2019-03-25       1023   \n",
       "44793                658                    1624     2019-03-25       1023   \n",
       "44794                658                    1624     2019-03-25       1023   \n",
       "\n",
       "       VALOR DO EVENTO                                DESCRITOR DO EVENTO  \\\n",
       "0                 8.82  CONSULTA MEDICA HOSP (INTERCONSULTA ENTRE ESPE...   \n",
       "1                 8.82  CONSULTA MEDICA HOSP (INTERCONSULTA ENTRE ESPE...   \n",
       "2                 8.82  CONSULTA MEDICA HOSP (INTERCONSULTA ENTRE ESPE...   \n",
       "3                96.26                    VISITA DE ENFERMAGEM DOMICILIAR   \n",
       "4                95.02      ATENDIMENTO/CONSULTA DE EMERGENCIA PEDIATRICO   \n",
       "...                ...                                                ...   \n",
       "44790           221.56  SIH 303140070 TRAT DOENCA DO OUVIDO EXT MED MA...   \n",
       "44791          1309.50                       SIH SUS 603050018 ABCIXIMABE   \n",
       "44792          1368.00  SIH SUS 303170140 TTO CL CONT COMP DES E OU DI...   \n",
       "44793            23.62  SIH SUS 301110018 ACOMP PACI MEDIO GRANDE QUEI...   \n",
       "44794            93.74       SIH SUS 413010040 CURATIVO EM MEDIO QUEIMADO   \n",
       "\n",
       "      INTERNACAO?  \n",
       "0             Sim  \n",
       "1             Sim  \n",
       "2             Sim  \n",
       "3             Sim  \n",
       "4             Não  \n",
       "...           ...  \n",
       "44790         Não  \n",
       "44791         Sim  \n",
       "44792         Não  \n",
       "44793         Não  \n",
       "44794         Não  \n",
       "\n",
       "[44795 rows x 12 columns]"
      ]
     },
     "execution_count": 52,
     "metadata": {},
     "output_type": "execute_result"
    }
   ],
   "source": [
    "claims"
   ]
  },
  {
   "cell_type": "code",
   "execution_count": 50,
   "metadata": {},
   "outputs": [
    {
     "data": {
      "text/plain": [
       "DATA DO EVENTO\n",
       "2017-02       2\n",
       "2017-04       2\n",
       "2017-06       2\n",
       "2017-07       1\n",
       "2017-08       1\n",
       "2017-09       2\n",
       "2017-10      44\n",
       "2017-11      17\n",
       "2017-12     101\n",
       "2018-01      22\n",
       "2018-02      85\n",
       "2018-03      28\n",
       "2018-04      26\n",
       "2018-05      27\n",
       "2018-06      20\n",
       "2018-07      24\n",
       "2018-08      19\n",
       "2018-09      49\n",
       "2018-10      73\n",
       "2018-11      45\n",
       "2018-12      34\n",
       "2019-01      59\n",
       "2019-02      65\n",
       "2019-03      31\n",
       "2019-04      28\n",
       "2019-05      98\n",
       "2019-06      25\n",
       "2019-07      23\n",
       "2019-08      25\n",
       "2019-09      22\n",
       "2019-10      25\n",
       "2019-11      29\n",
       "2019-12      41\n",
       "2020-01    1317\n",
       "2020-02    1853\n",
       "2020-03    3385\n",
       "2020-04    3000\n",
       "2020-05    3398\n",
       "2020-06    3271\n",
       "2020-07    4474\n",
       "2020-08    4543\n",
       "2020-09    3818\n",
       "2020-10    3879\n",
       "2020-11    3793\n",
       "2020-12    2612\n",
       "2021-01    3249\n",
       "2021-02    1674\n",
       "2021-03     497\n",
       "2021-04     486\n",
       "2021-05     523\n",
       "2021-06     287\n",
       "2021-07     179\n",
       "2021-08     294\n",
       "2021-09     350\n",
       "2021-10     304\n",
       "2021-11     407\n",
       "2021-12     277\n",
       "Freq: M, Name: CODIGO DO EVENTO, dtype: int64"
      ]
     },
     "execution_count": 50,
     "metadata": {},
     "output_type": "execute_result"
    }
   ],
   "source": [
    "# Visualizing the total number of events by month\n",
    "events_per_month = sinistros_base.groupby(sinistros_base['DATA DO EVENTO'].dt.to_period('M'))['CODIGO DO EVENTO'].count().sort_index()\n",
    "events_per_month"
   ]
  },
  {
   "cell_type": "code",
   "execution_count": 55,
   "metadata": {},
   "outputs": [
    {
     "data": {
      "image/png": "[encoded data removed]",
      "text/plain": [
       "<Figure size 1600x500 with 1 Axes>"
      ]
     },
     "metadata": {},
     "output_type": "display_data"
    }
   ],
   "source": [
    "plt.figure(figsize=(16, 5))\n",
    "events_per_month.plot(kind='bar')\n",
    "plt.xlabel('Event Month')\n",
    "plt.ylabel('Events Count')\n",
    "plt.title('Number of Events Over Time');"
   ]
  },
  {
   "cell_type": "code",
   "execution_count": 57,
   "metadata": {},
   "outputs": [
    {
     "data": {
      "text/plain": [
       "DATA DO EVENTO\n",
       "2017-02        96.20\n",
       "2017-04      1719.72\n",
       "2017-06        52.88\n",
       "2017-07         3.16\n",
       "2017-08         3.20\n",
       "2017-09        53.23\n",
       "2017-10      1329.63\n",
       "2017-11       524.18\n",
       "2017-12       223.08\n",
       "2018-01     12821.83\n",
       "2018-02      4687.00\n",
       "2018-03       309.55\n",
       "2018-04      5094.79\n",
       "2018-05      1893.18\n",
       "2018-06      5643.54\n",
       "2018-07      1983.42\n",
       "2018-08      2083.95\n",
       "2018-09      5341.64\n",
       "2018-10     35067.79\n",
       "2018-11     13309.19\n",
       "2018-12      5567.50\n",
       "2019-01     29326.71\n",
       "2019-02      1256.70\n",
       "2019-03      7931.97\n",
       "2019-04      1543.19\n",
       "2019-05     14649.28\n",
       "2019-06      3805.28\n",
       "2019-07      4711.03\n",
       "2019-08      2158.63\n",
       "2019-09      6745.37\n",
       "2019-10      2093.47\n",
       "2019-11      5488.22\n",
       "2019-12      1618.35\n",
       "2020-01    457303.21\n",
       "2020-02    405436.68\n",
       "2020-03    572522.36\n",
       "2020-04    794704.40\n",
       "2020-05   2509412.16\n",
       "2020-06    960841.91\n",
       "2020-07    861928.59\n",
       "2020-08    994153.82\n",
       "2020-09    593829.52\n",
       "2020-10    927387.42\n",
       "2020-11   1136646.31\n",
       "2020-12    538427.91\n",
       "2021-01    453410.77\n",
       "2021-02    243986.75\n",
       "2021-03     87673.61\n",
       "2021-04     46288.79\n",
       "2021-05     45731.99\n",
       "2021-06     20794.17\n",
       "2021-07     37420.39\n",
       "2021-08     25884.97\n",
       "2021-09     42443.90\n",
       "2021-10     45738.78\n",
       "2021-11     63008.26\n",
       "2021-12     30924.71\n",
       "Freq: M, Name: VALOR DO EVENTO, dtype: float64"
      ]
     },
     "execution_count": 57,
     "metadata": {},
     "output_type": "execute_result"
    }
   ],
   "source": [
    "# Visualizing the total value of events by month\n",
    "event_value_per_month = sinistros_base.groupby(sinistros_base['DATA DO EVENTO'].dt.to_period('M'))['VALOR DO EVENTO'].sum().sort_index()\n",
    "event_value_per_month"
   ]
  },
  {
   "cell_type": "code",
   "execution_count": 63,
   "metadata": {},
   "outputs": [
    {
     "data": {
      "image/png": "[encoded data removed]",
      "text/plain": [
       "<Figure size 1600x500 with 1 Axes>"
      ]
     },
     "metadata": {},
     "output_type": "display_data"
    }
   ],
   "source": [
    "plt.figure(figsize=(16, 5))\n",
    "event_value_per_month.plot(kind='line', linestyle='-', linewidth=2)\n",
    "plt.xlabel('Month')\n",
    "plt.ylabel('Sum of Event Value')\n",
    "plt.title('Sum of Event Value Over Time');"
   ]
  },
  {
   "cell_type": "markdown",
   "metadata": {},
   "source": [
    "The two graphs show that starting from January 2020, there is an increase in the total number and value of events. The number of events peaks between July and August 2020, while the value of the events peaks in April to May 2020. \n",
    "\n",
    "However, from 2021 onwards, there is a sharp decline in these trends, with a reduction in both the total number of events and their values."
   ]
  },
  {
   "cell_type": "code",
   "execution_count": 92,
   "metadata": {},
   "outputs": [],
   "source": [
    "# Defining function to calculate events over the year\n",
    "def top_events(dataframe, year=None):\n",
    "    if year:\n",
    "        events = dataframe[dataframe['DATA DO EVENTO'].dt.year == year].groupby(['CODIGO DO EVENTO', 'DESCRITOR DO EVENTO'])['CODIGO DO EVENTO'].count().nlargest(10)\n",
    "    else:\n",
    "        events = dataframe.groupby(['CODIGO DO EVENTO', 'DESCRITOR DO EVENTO'])['CODIGO DO EVENTO'].count().nlargest(10)\n",
    "    return events"
   ]
  },
  {
   "cell_type": "code",
   "execution_count": 96,
   "metadata": {},
   "outputs": [],
   "source": [
    "top_events_all = top_events(claims)\n",
    "top_events_2020 = top_events(claims, year=2020)\n",
    "top_events_2021 = top_events(claims, year=2021)"
   ]
  },
  {
   "cell_type": "code",
   "execution_count": 97,
   "metadata": {},
   "outputs": [
    {
     "name": "stdout",
     "output_type": "stream",
     "text": [
      "Top 5 events in the entire dataset:\n",
      "CODIGO DO EVENTO  DESCRITOR DO EVENTO                               \n",
      "10101012          CONSULTA MEDICA EM CONSULTORIO                        3501\n",
      "64620107          ATENDIMENTO EM PRONTO SOCORRO(PCTE COM HM)            1496\n",
      "61430056          MATERIAIS                                             1174\n",
      "40304361          HEMOGRAMA COMPLETO-ERITROGRAMA LEUCOGRAMA PLAQUETA    1072\n",
      "40302040          GLICOSE                                                835\n",
      "Name: CODIGO DO EVENTO, dtype: int64\n"
     ]
    }
   ],
   "source": [
    "print(\"Top 5 events in the entire dataset:\")\n",
    "print(top_events_all)"
   ]
  },
  {
   "cell_type": "code",
   "execution_count": 98,
   "metadata": {},
   "outputs": [
    {
     "name": "stdout",
     "output_type": "stream",
     "text": [
      "\n",
      "Top 10 events in 2020:\n",
      "CODIGO DO EVENTO  DESCRITOR DO EVENTO                               \n",
      "10101012          CONSULTA MEDICA EM CONSULTORIO                        2658\n",
      "64620107          ATENDIMENTO EM PRONTO SOCORRO(PCTE COM HM)            1116\n",
      "40304361          HEMOGRAMA COMPLETO-ERITROGRAMA LEUCOGRAMA PLAQUETA     892\n",
      "61430056          MATERIAIS                                              727\n",
      "40301630          CREATININA                                             690\n",
      "40302040          GLICOSE                                                688\n",
      "40302580          UREIA                                                  625\n",
      "50000470          SESSAO DE PSICOTERAPIA INDIVIDUAL POR PSICOLOGO        590\n",
      "10102019          VISITA HOSPITALAR (PACIENTE INTERNADO)                 568\n",
      "61430013          MEDICAMENTOS                                           487\n",
      "Name: CODIGO DO EVENTO, dtype: int64\n"
     ]
    }
   ],
   "source": [
    "print(\"\\nTop 10 events in 2020:\")\n",
    "print(top_events_2020)"
   ]
  },
  {
   "cell_type": "code",
   "execution_count": 99,
   "metadata": {},
   "outputs": [
    {
     "name": "stdout",
     "output_type": "stream",
     "text": [
      "\n",
      "Top 10 events in 2021:\n",
      "CODIGO DO EVENTO  DESCRITOR DO EVENTO                               \n",
      "10101012          CONSULTA MEDICA EM CONSULTORIO                        824\n",
      "64620107          ATENDIMENTO EM PRONTO SOCORRO(PCTE COM HM)            377\n",
      "40304361          HEMOGRAMA COMPLETO-ERITROGRAMA LEUCOGRAMA PLAQUETA    166\n",
      "50000470          SESSAO DE PSICOTERAPIA INDIVIDUAL POR PSICOLOGO       158\n",
      "61430056          MATERIAIS                                             154\n",
      "40302040          GLICOSE                                               140\n",
      "61430013          MEDICAMENTOS                                          123\n",
      "40316521          TIREOESTIMULANTE HORMONIO (TSH)                       122\n",
      "40301630          CREATININA                                            120\n",
      "40316491          T4 LIVRE                                              113\n",
      "Name: CODIGO DO EVENTO, dtype: int64\n"
     ]
    }
   ],
   "source": [
    "print(\"\\nTop 10 events in 2021:\")\n",
    "print(top_events_2021)"
   ]
  },
  {
   "cell_type": "code",
   "execution_count": 71,
   "metadata": {},
   "outputs": [
    {
     "data": {
      "text/plain": [
       "CODIGO DA FAMILIA\n",
       "108    5005\n",
       "133    3086\n",
       "429     829\n",
       "Name: count, dtype: int64"
      ]
     },
     "execution_count": 71,
     "metadata": {},
     "output_type": "execute_result"
    }
   ],
   "source": [
    "# Visualizing what family \n",
    "top_families = claims['CODIGO DA FAMILIA'].value_counts().nlargest(3)\n",
    "top_families"
   ]
  },
  {
   "cell_type": "code",
   "execution_count": 72,
   "metadata": {},
   "outputs": [
    {
     "data": {
      "text/html": [
       "<div>\n",
       "<style scoped>\n",
       "    .dataframe tbody tr th:only-of-type {\n",
       "        vertical-align: middle;\n",
       "    }\n",
       "\n",
       "    .dataframe tbody tr th {\n",
       "        vertical-align: top;\n",
       "    }\n",
       "\n",
       "    .dataframe thead th {\n",
       "        text-align: right;\n",
       "    }\n",
       "</style>\n",
       "<table border=\"1\" class=\"dataframe\">\n",
       "  <thead>\n",
       "    <tr style=\"text-align: right;\">\n",
       "      <th></th>\n",
       "      <th>DATA DE REFERENCIA</th>\n",
       "      <th>CODIGO DO EVENTO</th>\n",
       "      <th>FONTE</th>\n",
       "      <th>PLANO</th>\n",
       "      <th>TITULARIDADE</th>\n",
       "      <th>CODIGO DA FAMILIA</th>\n",
       "      <th>CODIGO ÚNICO DA PESSOA</th>\n",
       "      <th>DATA DO EVENTO</th>\n",
       "      <th>PRESTADOR</th>\n",
       "      <th>VALOR DO EVENTO</th>\n",
       "      <th>DESCRITOR DO EVENTO</th>\n",
       "      <th>INTERNACAO?</th>\n",
       "    </tr>\n",
       "  </thead>\n",
       "  <tbody>\n",
       "    <tr>\n",
       "      <th>1971</th>\n",
       "      <td>2020-01-08</td>\n",
       "      <td>10101012</td>\n",
       "      <td>REDE</td>\n",
       "      <td>Básico</td>\n",
       "      <td>TITULAR</td>\n",
       "      <td>108</td>\n",
       "      <td>181</td>\n",
       "      <td>2020-01-07</td>\n",
       "      <td>256</td>\n",
       "      <td>66.83</td>\n",
       "      <td>CONSULTA MEDICA EM CONSULTORIO</td>\n",
       "      <td>Não</td>\n",
       "    </tr>\n",
       "    <tr>\n",
       "      <th>1972</th>\n",
       "      <td>2020-01-07</td>\n",
       "      <td>10101012</td>\n",
       "      <td>REDE</td>\n",
       "      <td>Básico</td>\n",
       "      <td>TITULAR</td>\n",
       "      <td>108</td>\n",
       "      <td>181</td>\n",
       "      <td>2020-10-06</td>\n",
       "      <td>256</td>\n",
       "      <td>65.20</td>\n",
       "      <td>CONSULTA MEDICA EM CONSULTORIO</td>\n",
       "      <td>Não</td>\n",
       "    </tr>\n",
       "    <tr>\n",
       "      <th>3959</th>\n",
       "      <td>2020-01-05</td>\n",
       "      <td>10102019</td>\n",
       "      <td>REDE</td>\n",
       "      <td>Básico</td>\n",
       "      <td>TITULAR</td>\n",
       "      <td>108</td>\n",
       "      <td>181</td>\n",
       "      <td>2020-01-03</td>\n",
       "      <td>256</td>\n",
       "      <td>162.72</td>\n",
       "      <td>VISITA HOSPITALAR (PACIENTE INTERNADO)</td>\n",
       "      <td>Sim</td>\n",
       "    </tr>\n",
       "    <tr>\n",
       "      <th>3960</th>\n",
       "      <td>2020-01-06</td>\n",
       "      <td>10102019</td>\n",
       "      <td>REDE</td>\n",
       "      <td>Básico</td>\n",
       "      <td>TITULAR</td>\n",
       "      <td>108</td>\n",
       "      <td>181</td>\n",
       "      <td>2020-01-04</td>\n",
       "      <td>256</td>\n",
       "      <td>162.72</td>\n",
       "      <td>VISITA HOSPITALAR (PACIENTE INTERNADO)</td>\n",
       "      <td>Sim</td>\n",
       "    </tr>\n",
       "    <tr>\n",
       "      <th>3961</th>\n",
       "      <td>2020-01-06</td>\n",
       "      <td>10102019</td>\n",
       "      <td>REDE</td>\n",
       "      <td>Básico</td>\n",
       "      <td>TITULAR</td>\n",
       "      <td>108</td>\n",
       "      <td>181</td>\n",
       "      <td>2020-01-05</td>\n",
       "      <td>256</td>\n",
       "      <td>162.72</td>\n",
       "      <td>VISITA HOSPITALAR (PACIENTE INTERNADO)</td>\n",
       "      <td>Sim</td>\n",
       "    </tr>\n",
       "    <tr>\n",
       "      <th>...</th>\n",
       "      <td>...</td>\n",
       "      <td>...</td>\n",
       "      <td>...</td>\n",
       "      <td>...</td>\n",
       "      <td>...</td>\n",
       "      <td>...</td>\n",
       "      <td>...</td>\n",
       "      <td>...</td>\n",
       "      <td>...</td>\n",
       "      <td>...</td>\n",
       "      <td>...</td>\n",
       "      <td>...</td>\n",
       "    </tr>\n",
       "    <tr>\n",
       "      <th>44398</th>\n",
       "      <td>2020-01-09</td>\n",
       "      <td>65623894</td>\n",
       "      <td>REDE</td>\n",
       "      <td>Básico</td>\n",
       "      <td>TITULAR</td>\n",
       "      <td>108</td>\n",
       "      <td>181</td>\n",
       "      <td>2020-08-07</td>\n",
       "      <td>256</td>\n",
       "      <td>80.00</td>\n",
       "      <td>TX ADIC EPIS APART ENF POR DIA  COVID 19</td>\n",
       "      <td>Sim</td>\n",
       "    </tr>\n",
       "    <tr>\n",
       "      <th>44399</th>\n",
       "      <td>2020-01-09</td>\n",
       "      <td>65623894</td>\n",
       "      <td>REDE</td>\n",
       "      <td>Básico</td>\n",
       "      <td>TITULAR</td>\n",
       "      <td>108</td>\n",
       "      <td>181</td>\n",
       "      <td>2020-09-07</td>\n",
       "      <td>256</td>\n",
       "      <td>80.00</td>\n",
       "      <td>TX ADIC EPIS APART ENF POR DIA  COVID 19</td>\n",
       "      <td>Sim</td>\n",
       "    </tr>\n",
       "    <tr>\n",
       "      <th>44400</th>\n",
       "      <td>2020-01-09</td>\n",
       "      <td>65623894</td>\n",
       "      <td>REDE</td>\n",
       "      <td>Básico</td>\n",
       "      <td>TITULAR</td>\n",
       "      <td>108</td>\n",
       "      <td>181</td>\n",
       "      <td>2020-10-07</td>\n",
       "      <td>256</td>\n",
       "      <td>80.00</td>\n",
       "      <td>TX ADIC EPIS APART ENF POR DIA  COVID 19</td>\n",
       "      <td>Sim</td>\n",
       "    </tr>\n",
       "    <tr>\n",
       "      <th>44401</th>\n",
       "      <td>2020-01-09</td>\n",
       "      <td>65623894</td>\n",
       "      <td>REDE</td>\n",
       "      <td>Básico</td>\n",
       "      <td>TITULAR</td>\n",
       "      <td>108</td>\n",
       "      <td>181</td>\n",
       "      <td>2020-11-07</td>\n",
       "      <td>256</td>\n",
       "      <td>80.00</td>\n",
       "      <td>TX ADIC EPIS APART ENF POR DIA  COVID 19</td>\n",
       "      <td>Sim</td>\n",
       "    </tr>\n",
       "    <tr>\n",
       "      <th>44402</th>\n",
       "      <td>2020-01-09</td>\n",
       "      <td>65623894</td>\n",
       "      <td>REDE</td>\n",
       "      <td>Básico</td>\n",
       "      <td>TITULAR</td>\n",
       "      <td>108</td>\n",
       "      <td>181</td>\n",
       "      <td>2020-12-07</td>\n",
       "      <td>256</td>\n",
       "      <td>80.00</td>\n",
       "      <td>TX ADIC EPIS APART ENF POR DIA  COVID 19</td>\n",
       "      <td>Sim</td>\n",
       "    </tr>\n",
       "  </tbody>\n",
       "</table>\n",
       "<p>5005 rows × 12 columns</p>\n",
       "</div>"
      ],
      "text/plain": [
       "      DATA DE REFERENCIA  CODIGO DO EVENTO FONTE   PLANO TITULARIDADE  \\\n",
       "1971          2020-01-08          10101012  REDE  Básico      TITULAR   \n",
       "1972          2020-01-07          10101012  REDE  Básico      TITULAR   \n",
       "3959          2020-01-05          10102019  REDE  Básico      TITULAR   \n",
       "3960          2020-01-06          10102019  REDE  Básico      TITULAR   \n",
       "3961          2020-01-06          10102019  REDE  Básico      TITULAR   \n",
       "...                  ...               ...   ...     ...          ...   \n",
       "44398         2020-01-09          65623894  REDE  Básico      TITULAR   \n",
       "44399         2020-01-09          65623894  REDE  Básico      TITULAR   \n",
       "44400         2020-01-09          65623894  REDE  Básico      TITULAR   \n",
       "44401         2020-01-09          65623894  REDE  Básico      TITULAR   \n",
       "44402         2020-01-09          65623894  REDE  Básico      TITULAR   \n",
       "\n",
       "       CODIGO DA FAMILIA  CODIGO ÚNICO DA PESSOA DATA DO EVENTO  PRESTADOR  \\\n",
       "1971                 108                     181     2020-01-07        256   \n",
       "1972                 108                     181     2020-10-06        256   \n",
       "3959                 108                     181     2020-01-03        256   \n",
       "3960                 108                     181     2020-01-04        256   \n",
       "3961                 108                     181     2020-01-05        256   \n",
       "...                  ...                     ...            ...        ...   \n",
       "44398                108                     181     2020-08-07        256   \n",
       "44399                108                     181     2020-09-07        256   \n",
       "44400                108                     181     2020-10-07        256   \n",
       "44401                108                     181     2020-11-07        256   \n",
       "44402                108                     181     2020-12-07        256   \n",
       "\n",
       "       VALOR DO EVENTO                       DESCRITOR DO EVENTO INTERNACAO?  \n",
       "1971             66.83            CONSULTA MEDICA EM CONSULTORIO         Não  \n",
       "1972             65.20            CONSULTA MEDICA EM CONSULTORIO         Não  \n",
       "3959            162.72    VISITA HOSPITALAR (PACIENTE INTERNADO)         Sim  \n",
       "3960            162.72    VISITA HOSPITALAR (PACIENTE INTERNADO)         Sim  \n",
       "3961            162.72    VISITA HOSPITALAR (PACIENTE INTERNADO)         Sim  \n",
       "...                ...                                       ...         ...  \n",
       "44398            80.00  TX ADIC EPIS APART ENF POR DIA  COVID 19         Sim  \n",
       "44399            80.00  TX ADIC EPIS APART ENF POR DIA  COVID 19         Sim  \n",
       "44400            80.00  TX ADIC EPIS APART ENF POR DIA  COVID 19         Sim  \n",
       "44401            80.00  TX ADIC EPIS APART ENF POR DIA  COVID 19         Sim  \n",
       "44402            80.00  TX ADIC EPIS APART ENF POR DIA  COVID 19         Sim  \n",
       "\n",
       "[5005 rows x 12 columns]"
      ]
     },
     "execution_count": 72,
     "metadata": {},
     "output_type": "execute_result"
    }
   ],
   "source": [
    "claims[claims['CODIGO DA FAMILIA'] == 108]"
   ]
  },
  {
   "cell_type": "code",
   "execution_count": 75,
   "metadata": {},
   "outputs": [
    {
     "name": "stdout",
     "output_type": "stream",
     "text": [
      "181\n",
      "108\n"
     ]
    }
   ],
   "source": [
    "# Beneficiary with the highest number of claims and its family\n",
    "top_beneficiary = claims['CODIGO ÚNICO DA PESSOA'].value_counts().idxmax()\n",
    "beneficiary_claims = claims[claims['CODIGO ÚNICO DA PESSOA'] == top_beneficiary]\n",
    "beneficiary_family = beneficiary_claims['CODIGO DA FAMILIA'].iloc[0]\n",
    "\n",
    "print(top_beneficiary)\n",
    "print(beneficiary_family)"
   ]
  },
  {
   "cell_type": "code",
   "execution_count": 76,
   "metadata": {},
   "outputs": [
    {
     "data": {
      "text/plain": [
       "PRESTADOR\n",
       "256    9803\n",
       "282    2933\n",
       "465    2540\n",
       "485    2460\n",
       "486    1585\n",
       "Name: count, dtype: int64"
      ]
     },
     "execution_count": 76,
     "metadata": {},
     "output_type": "execute_result"
    }
   ],
   "source": [
    "# Top 5 providers\n",
    "main_providers = claims['PRESTADOR'].value_counts().head(5)\n",
    "main_providers"
   ]
  },
  {
   "cell_type": "code",
   "execution_count": 91,
   "metadata": {},
   "outputs": [
    {
     "data": {
      "image/png": "[encoded data removed]",
      "text/plain": [
       "<Figure size 1600x500 with 1 Axes>"
      ]
     },
     "metadata": {},
     "output_type": "display_data"
    },
    {
     "data": {
      "image/png": "[encoded data removed]",
      "text/plain": [
       "<Figure size 1600x500 with 1 Axes>"
      ]
     },
     "metadata": {},
     "output_type": "display_data"
    }
   ],
   "source": [
    "# Visualizing concentration of claims by 'PLANO' type and by 'FONTE'\n",
    "def plot_concentration(dataframe, column):\n",
    "    concentration = dataframe[column].value_counts(normalize=True) * 100\n",
    "    plt.figure(figsize=(16, 5))\n",
    "    ax = concentration.plot(kind='bar')\n",
    "    ax.set_ylabel('Percentage of Claims')\n",
    "    ax.set_title(f'Concentration of Claims by {column}')\n",
    "\n",
    "    for i in ax.patches:\n",
    "        ax.annotate(f'{i.get_height():.1f}%', (i.get_x() + i.get_width() / 2, i.get_height()), ha='center', va='bottom')\n",
    "\n",
    "    ax.yaxis.set_major_formatter(plt.NullFormatter())\n",
    "\n",
    "    ax.set_xticklabels(ax.get_xticklabels(), rotation=0, ha='center')\n",
    "\n",
    "    plt.show()\n",
    "\n",
    "plot_concentration(claims, 'PLANO')\n",
    "plot_concentration(claims, 'FONTE')"
   ]
  },
  {
   "cell_type": "code",
   "execution_count": 85,
   "metadata": {},
   "outputs": [
    {
     "data": {
      "image/png": "[encoded data removed]",
      "text/plain": [
       "<Figure size 1600x500 with 2 Axes>"
      ]
     },
     "metadata": {},
     "output_type": "display_data"
    }
   ],
   "source": [
    "# Visualizing proportion of hospitalization by year\n",
    "def plot_internacao(dataframe, year, ax, show_legend=False):\n",
    "    internacao_events = dataframe[dataframe['DATA DO EVENTO'].dt.year == year]['INTERNACAO?'].value_counts()\n",
    "\n",
    "    wedges, texts, autotexts = ax.pie(internacao_events, labels=None, autopct='%1.1f%%', startangle=90)\n",
    "    ax.set_title(f'Proportion of Hospitalization Events in {year}')\n",
    "    ax.axis('equal')\n",
    "\n",
    "    if show_legend:\n",
    "        ax.legend(wedges, internacao_events.index, title=\"Internação?\", loc=\"center left\", bbox_to_anchor=(1, 0, 0.5, 1))\n",
    "\n",
    "fig, (ax1, ax2) = plt.subplots(1, 2, figsize=(16, 5))\n",
    "\n",
    "plot_internacao(claims, 2020, ax1)\n",
    "plot_internacao(claims, 2021, ax2, show_legend=True)\n",
    "\n",
    "plt.show()"
   ]
  },
  {
   "cell_type": "markdown",
   "metadata": {},
   "source": [
    "## Questions & Answers (Q&A)"
   ]
  },
  {
   "cell_type": "markdown",
   "metadata": {},
   "source": [
    "### cadastro_base"
   ]
  },
  {
   "cell_type": "markdown",
   "metadata": {},
   "source": [
    "#### Questions\n",
    "1. Does the dataframe have any beneficiary with inconsistent registration?\n",
    "2. Does this dataframe have any beneficiaries with different ``PLANO`` over the reference months? Does the ``TITULARIDADE`` change over the months?\n",
    "3. Any beneficiary with a different ``DATE DE NASCIMENTO``? More than one date for the same beneficiary.\n",
    "4. How is the distribution of beneficiaries among ``SEXO``, ``PLANO``, and ``TITULARIDADE``?\n",
    "5. Can the same beneficiary have more than one ``IDADE`` over time? Due to the base being a monthly record (position date).\n",
    "\n",
    "#### Answers\n",
    "1. Yes, 12 beneficiaries have an invalid date of birth, with inconsistent dates. None of them were corrected in subsequent reference months, thus maintaining only the incorrect results.\n",
    "2. No, all beneficiaries continue with the same plan over the months. The same occurs with the titularity, remaining the same.\n",
    "3. Yes, the `CODIGO ÚNICO DA PESSOA` = 1388 has two dates of birth: 12/04/1986 until January/2021 and 11/04/1986 from February/2021 onwards.\n",
    "4. The male gender has the highest number of beneficiaries, as well as the Superior plan in the plan group, while Dependents are the highest number of beneficiaries among the types of titularity.\n",
    "5. Yes, there are cases where the same beneficiary has 2 or 3 ages, for example."
   ]
  },
  {
   "cell_type": "markdown",
   "metadata": {},
   "source": [
    "___________"
   ]
  },
  {
   "cell_type": "markdown",
   "metadata": {},
   "source": [
    "### sinistros_base\n",
    "\n",
    "#### Questions\n",
    "1. Does this dataframe have duplicate event records?\n",
    "2. What is the trend of events over time? Does the fluctuation mentioned in the challenge proposal really occur? Does the total number of events and the sum of the event values ​​follow the same trend over time?\n",
    "3. What are the top 5 events in the entire dataset? Is there a variation in this top 5 between 2020 and 2021?\n",
    "4. Is there any family that stands out in the total number of claims?\n",
    "5. Is there any beneficiary who stands out? Does he belong to the same family that is at the top?\n",
    "6. Who are the main ``PRESTADOR``?\n",
    "7. How is the concentration of claims by ``PLANO`` type? And by ``FONTE``?\n",
    "8. How do ``INTERNAÇÃO`` events behave in 2020 and 2021?\n",
    "\n",
    "#### Answers\n",
    "1. Yes, due to ``DATA DE REFERÊNCIA``, this dataframe also has duplicate records of the same insurance event.\n",
    "2. The events and their values ​​grew in 2020, the year they peaked. However, in the fourth quarter of this year, there is already a slowdown in this movement, with the year 2021 recording much lower numbers than those registered in the previous year. Thus, there was a great fluctuation over time, so that both the total number of events and the total values ​​of these events followed the same trend over time.\n",
    "3. Throughout the period, CONSULTA MEDICA EM CONSULTORIO (10101012) stands out as the main reason for claims over time, and also in the individual years of 2020 and 2021. In addition, the other two reasons in the top 3 are the same: ATENDIMENTO EM PRONTO SOCORRO(PCTE COM HM) e HEMOGRAMA COMPLETO-ERITROGRAMA LEUCOGRAMA PLAQUETA. The variation occurs only in one reason from 2020 (CREATININA) to 2021 (SESSAO DE PSICOTERAPIA INDIVIDUAL POR PSICOLOGO), with MATERIAIS closing the podium. Overall, there is no major change in procedures from one year to the next.\n",
    "4. The main family is 108, with more than 5 thousand records throughout the period. Below it are families 133 and 429, rounding out the top 3.\n",
    "5. The main beneficiary is 181 and he belongs to the top family, 108.\n",
    "6. The top 5 providers are 256, 282, 465, 485, and 486. The first one stands out greatly compared to the others, with 9803 records, while the second has 2933, that is, 3 times less than the first place.\n",
    "7. Claims are concentrated in the BÁSICO ``PLANO``, with 71% of the records over time. In addition, 95% of the events are related to the REDE ``FONTE``, with few records related to REEMBOLSO.\n",
    "8. The proportion of hospitalization (`INTERNAÇÃO?`) events decreased from 2020 to 2021. In the first year, these represent 33% of the total events, while in 2021 this number is halved, representing 16% of the claims in that year."
   ]
  },
  {
   "cell_type": "markdown",
   "metadata": {},
   "source": [
    "## Exporting transformed dataframes"
   ]
  },
  {
   "cell_type": "markdown",
   "metadata": {},
   "source": [
    "### cadastro_base to beneficiaries"
   ]
  },
  {
   "cell_type": "code",
   "execution_count": 44,
   "metadata": {},
   "outputs": [],
   "source": [
    "# Converting the 'MÊS DE REFERÊNCIA' and 'ANO DE REFERÊNCIA' columns to date format\n",
    "cadastro_base['REFERENCE_DATE'] = pd.to_datetime(cadastro_base['ANO DE REFERÊNCIA'].astype(str) + '-' + cadastro_base['MÊS DE REFERÊNCIA'].astype(str), format='%Y-%m')\n",
    "\n",
    "# Getting the index of the last record for each 'CODIGO ÚNICO DA PESSOA'\n",
    "last_index = cadastro_base.groupby('CODIGO ÚNICO DA PESSOA')['REFERENCE_DATE'].idxmax()\n",
    "\n",
    "# Selecting the records corresponding to the indices\n",
    "beneficiaries = cadastro_base.loc[last_index].reset_index(drop=True)"
   ]
  },
  {
   "cell_type": "code",
   "execution_count": 47,
   "metadata": {},
   "outputs": [],
   "source": [
    "# Exporting beneficiaries from cadastro_base\n",
    "beneficiaries.to_excel('beneficiaries.xlsx')"
   ]
  },
  {
   "cell_type": "markdown",
   "metadata": {},
   "source": [
    "### sinistros_base to claims"
   ]
  },
  {
   "cell_type": "code",
   "execution_count": 101,
   "metadata": {},
   "outputs": [],
   "source": [
    "# Exporting claims from sinistros_base\n",
    "claims.to_excel('claims.xlsx', index=False)"
   ]
  },
  {
   "cell_type": "markdown",
   "metadata": {},
   "source": [
    "## Summary & Conclusion"
   ]
  },
  {
   "cell_type": "markdown",
   "metadata": {},
   "source": [
    "`cadastro_base`\n",
    "\n",
    "Based on the EDA conducted, it was noted that some treatments were necessary in the `cadastro_base` dataframe, as it is a base with the position date of the registration updates for each client.\n",
    "\n",
    "To have unique results for each client (`CODIGO ÚNICO DA PESSOA`), I chose to bring the last record for each client, avoiding problems with duplicate *dates* and *ages*, as was the case before. Additionally, I treated the `DATA DE NASCIMENTO` column to correct the issue found with the 12 invalid records.\n",
    "\n",
    "As a result, I generated a new treated dataframe named `beneficiaries`, with these unique results coming from `cadastro_base`.\n",
    "\n",
    "---------------------------------------------------\n",
    "\n",
    "`sinistros_base`\n",
    "\n",
    "Based on the EDA, it is noted that the dataset contains duplicate records with different reference dates, similar to the previous dataset.\n",
    "\n",
    "To address these records and have a single result for each of them, I took the maximum reference date for each claim record, considering all columns that characterize a claim as unique, namely: ``CODIGO DO EVENTO``,``FONTE``,``PLANO``,``TITULARIDADE``,``CODIGO DA FAMILIA``,``CODIGO ÚNICO DA PESSOA``,``DATA DO EVENTO``,``PRESTADOR``,``VALOR DO EVENTO``,``DESCRITOR DO EVENTO``, and ``INTERNACAO?``.\n",
    "\n",
    "Furthermore, I also performed data preprocessing to ensure that date columns were in valid formats.\n",
    "\n",
    "In the end, I generated a new dataframe called ``claims``, containing unique records from ``sinistros_base``, to use in my dashboard."
   ]
  }
 ],
 "metadata": {
  "kernelspec": {
   "display_name": "Python 3",
   "language": "python",
   "name": "python3"
  },
  "language_info": {
   "codemirror_mode": {
    "name": "ipython",
    "version": 3
   },
   "file_extension": ".py",
   "mimetype": "text/x-python",
   "name": "python",
   "nbconvert_exporter": "python",
   "pygments_lexer": "ipython3",
   "version": "3.10.0"
  }
 },
 "nbformat": 4,
 "nbformat_minor": 2
}
